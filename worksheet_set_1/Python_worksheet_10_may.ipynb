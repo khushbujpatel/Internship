{
 "cells": [
  {
   "cell_type": "markdown",
   "id": "8d069b92",
   "metadata": {},
   "source": [
    "1. Which of the following operators is used to calculate remainder in a division?\n",
    "\n",
    "C) %"
   ]
  },
  {
   "cell_type": "markdown",
   "id": "289553a5",
   "metadata": {},
   "source": [
    "In python 2//3 is equal to?\n",
    "B) 0"
   ]
  },
  {
   "cell_type": "code",
   "execution_count": 3,
   "id": "2ffd89b1",
   "metadata": {},
   "outputs": [
    {
     "name": "stdout",
     "output_type": "stream",
     "text": [
      "0\n"
     ]
    }
   ],
   "source": [
    "print(2//3)"
   ]
  },
  {
   "cell_type": "markdown",
   "id": "e3409e62",
   "metadata": {},
   "source": [
    "3. In python, 6<<2 is equal to?\n",
    "C) 24"
   ]
  },
  {
   "cell_type": "code",
   "execution_count": 4,
   "id": "5dd96a9c",
   "metadata": {},
   "outputs": [
    {
     "name": "stdout",
     "output_type": "stream",
     "text": [
      "24\n"
     ]
    }
   ],
   "source": [
    "print(6<<2)\n"
   ]
  },
  {
   "cell_type": "markdown",
   "id": "fcf5a053",
   "metadata": {},
   "source": [
    "4. In python, 6&2 will give which of the following as output?\n",
    "A) 2"
   ]
  },
  {
   "cell_type": "code",
   "execution_count": 6,
   "id": "1765ed3e",
   "metadata": {},
   "outputs": [
    {
     "data": {
      "text/plain": [
       "2"
      ]
     },
     "execution_count": 6,
     "metadata": {},
     "output_type": "execute_result"
    }
   ],
   "source": [
    "6&2"
   ]
  },
  {
   "cell_type": "markdown",
   "id": "a9fb84f4",
   "metadata": {},
   "source": [
    "5. In python, 6|2 will give which of the following as output?\n",
    "D) 6"
   ]
  },
  {
   "cell_type": "code",
   "execution_count": 8,
   "id": "6c0d30e5",
   "metadata": {},
   "outputs": [
    {
     "data": {
      "text/plain": [
       "6"
      ]
     },
     "execution_count": 8,
     "metadata": {},
     "output_type": "execute_result"
    }
   ],
   "source": [
    "6|2"
   ]
  },
  {
   "cell_type": "markdown",
   "id": "3f78ef6a",
   "metadata": {},
   "source": [
    "6. What does the finally keyword denotes in python?\n",
    "C) the finally block will be executed no matter if the try block raises an error or not."
   ]
  },
  {
   "cell_type": "markdown",
   "id": "203ea7b3",
   "metadata": {},
   "source": [
    "7. What does raise keyword is used for in python?"
   ]
  },
  {
   "cell_type": "markdown",
   "id": "398c1a1b",
   "metadata": {},
   "source": [
    "A) It is used to raise an exception."
   ]
  },
  {
   "cell_type": "markdown",
   "id": "7894e7df",
   "metadata": {},
   "source": [
    "8. Which of the following is a common use case of yield keyword in python?"
   ]
  },
  {
   "cell_type": "markdown",
   "id": "a9838e54",
   "metadata": {},
   "source": [
    "C) in defining a generator"
   ]
  },
  {
   "cell_type": "markdown",
   "id": "ef6aa7f5",
   "metadata": {},
   "source": [
    "9. Which of the following are the valid variable names?"
   ]
  },
  {
   "cell_type": "markdown",
   "id": "6261e24d",
   "metadata": {},
   "source": [
    "A) _abc \n",
    "C) abc2"
   ]
  },
  {
   "cell_type": "markdown",
   "id": "f18c78ca",
   "metadata": {},
   "source": [
    "10. Which of the following are the keywords in python?"
   ]
  },
  {
   "cell_type": "markdown",
   "id": "894ca47d",
   "metadata": {},
   "source": [
    "A) yield B) raise"
   ]
  },
  {
   "cell_type": "markdown",
   "id": "7aefa049",
   "metadata": {},
   "source": [
    "11. Write a python program to find the factorial of a number."
   ]
  },
  {
   "cell_type": "code",
   "execution_count": 26,
   "id": "eed9aa03",
   "metadata": {},
   "outputs": [
    {
     "data": {
      "text/plain": [
       "3628800"
      ]
     },
     "execution_count": 26,
     "metadata": {},
     "output_type": "execute_result"
    }
   ],
   "source": [
    "def factorial(n):\n",
    "    if n==0:\n",
    "        return 1\n",
    "    else:\n",
    "        result = 1\n",
    "        for i in range(1,n+1):\n",
    "            result = result*i\n",
    "        return result\n",
    "factorial(10)"
   ]
  },
  {
   "cell_type": "markdown",
   "id": "76682635",
   "metadata": {},
   "source": [
    "12. Write a python program to find whether a number is prime or composite."
   ]
  },
  {
   "cell_type": "code",
   "execution_count": 52,
   "id": "057cd361",
   "metadata": {},
   "outputs": [
    {
     "name": "stdout",
     "output_type": "stream",
     "text": [
      "149 is a prime number\n"
     ]
    }
   ],
   "source": [
    "def check_prime(num):\n",
    "    if num >= 1:\n",
    "        for i in range(2,(num//2)+1):\n",
    "            if(num % i) == 0:\n",
    "                print(num, \"is not a prime number\")\n",
    "                break\n",
    "        else:\n",
    "             print(num, \"is a prime number\")\n",
    "    else:\n",
    "         print(num, \"is a  not prime number\")\n",
    "check_prime(149)"
   ]
  },
  {
   "cell_type": "markdown",
   "id": "d43b1ca9",
   "metadata": {},
   "source": [
    "13. Write a python program to check whether a given string is palindrome or not."
   ]
  },
  {
   "cell_type": "code",
   "execution_count": 66,
   "id": "159d5d59",
   "metadata": {},
   "outputs": [
    {
     "name": "stdout",
     "output_type": "stream",
     "text": [
      "leddel\n",
      "yes\n"
     ]
    }
   ],
   "source": [
    "def palindrome(s):\n",
    "    print(s[::-1])\n",
    "    if s == s[::-1]:\n",
    "         print(\"yes\")\n",
    "    else:\n",
    "        print(\"no\")\n",
    "        \n",
    "palindrome(\"leddel\")"
   ]
  },
  {
   "cell_type": "markdown",
   "id": "c7cf7f31",
   "metadata": {},
   "source": [
    "14. Write a Python program to get the third side of right-angled triangle from two given sides."
   ]
  },
  {
   "cell_type": "code",
   "execution_count": 69,
   "id": "cea5e5dd",
   "metadata": {},
   "outputs": [
    {
     "name": "stdout",
     "output_type": "stream",
     "text": [
      "5.0\n"
     ]
    }
   ],
   "source": [
    "import math\n",
    "first_side = 3\n",
    "second_side = 4\n",
    "Third_side = math.hypot(first_side, second_side)\n",
    "print(Third_side)"
   ]
  },
  {
   "cell_type": "markdown",
   "id": "b2fd8f41",
   "metadata": {},
   "source": [
    "15. Write a python program to print the frequency of each of the characters present in a given string."
   ]
  },
  {
   "cell_type": "code",
   "execution_count": 81,
   "id": "46a09e2c",
   "metadata": {},
   "outputs": [
    {
     "name": "stdout",
     "output_type": "stream",
     "text": [
      "Y: 1, o: 2, l: 1, o: 2,  : 1, L: 1, i: 1, f: 1, e: 1, "
     ]
    }
   ],
   "source": [
    "string = \"Yolo Life\"\n",
    "\n",
    "for i in string:\n",
    "    frequency = string.count(i)\n",
    "    print(str(i) + \": \" + str(frequency), end=\", \")"
   ]
  },
  {
   "cell_type": "code",
   "execution_count": null,
   "id": "4b139218",
   "metadata": {},
   "outputs": [],
   "source": []
  }
 ],
 "metadata": {
  "kernelspec": {
   "display_name": "Python 3 (ipykernel)",
   "language": "python",
   "name": "python3"
  },
  "language_info": {
   "codemirror_mode": {
    "name": "ipython",
    "version": 3
   },
   "file_extension": ".py",
   "mimetype": "text/x-python",
   "name": "python",
   "nbconvert_exporter": "python",
   "pygments_lexer": "ipython3",
   "version": "3.11.4"
  }
 },
 "nbformat": 4,
 "nbformat_minor": 5
}

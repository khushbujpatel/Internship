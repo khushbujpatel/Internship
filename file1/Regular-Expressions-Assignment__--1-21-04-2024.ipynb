{
 "cells": [
  {
   "cell_type": "markdown",
   "id": "adaef477",
   "metadata": {},
   "source": [
    "Question 1- Write a Python program to replace all occurrences of a space, comma, or dot with a colon.\n",
    "Sample Text- 'Python Exercises, PHP exercises.'\n",
    "Expected Output: Python:Exercises::PHP:exercises:\n"
   ]
  },
  {
   "cell_type": "code",
   "execution_count": 1,
   "id": "c538b388",
   "metadata": {},
   "outputs": [
    {
     "name": "stdout",
     "output_type": "stream",
     "text": [
      "Python:Exercises::PHP:exercises:\n"
     ]
    }
   ],
   "source": [
    "import pandas as pd\n",
    "import re\n",
    "Text = 'Python Exercises, PHP exercises.'\n",
    "pattern = \"[\\s.,]\"\n",
    "result = re.sub(pattern,\":\",Text) \n",
    "print(result)"
   ]
  },
  {
   "cell_type": "markdown",
   "id": "dcfca5e8",
   "metadata": {},
   "source": [
    "Question 2-  Create a dataframe using the dictionary below and remove everything (commas (,), !, XXXX, ;, etc.) from the columns except words.\n",
    "Dictionary- {'SUMMARY' : ['hello, world!', 'XXXXX test', '123four, five:; six...']}\n",
    "Expected output-\n",
    "0      hello world\n",
    "1             test\n",
    "2    four five six\n"
   ]
  },
  {
   "cell_type": "code",
   "execution_count": 2,
   "id": "c3014ce2",
   "metadata": {},
   "outputs": [],
   "source": [
    "df = pd.DataFrame({'SUMMARY' : ['hello, world!', 'XXXXX test', '123four, five:; six...']})"
   ]
  },
  {
   "cell_type": "code",
   "execution_count": 3,
   "id": "afa69a53",
   "metadata": {},
   "outputs": [
    {
     "data": {
      "text/html": [
       "<div>\n",
       "<style scoped>\n",
       "    .dataframe tbody tr th:only-of-type {\n",
       "        vertical-align: middle;\n",
       "    }\n",
       "\n",
       "    .dataframe tbody tr th {\n",
       "        vertical-align: top;\n",
       "    }\n",
       "\n",
       "    .dataframe thead th {\n",
       "        text-align: right;\n",
       "    }\n",
       "</style>\n",
       "<table border=\"1\" class=\"dataframe\">\n",
       "  <thead>\n",
       "    <tr style=\"text-align: right;\">\n",
       "      <th></th>\n",
       "      <th>SUMMARY</th>\n",
       "    </tr>\n",
       "  </thead>\n",
       "  <tbody>\n",
       "    <tr>\n",
       "      <th>0</th>\n",
       "      <td>hello, world!</td>\n",
       "    </tr>\n",
       "    <tr>\n",
       "      <th>1</th>\n",
       "      <td>XXXXX test</td>\n",
       "    </tr>\n",
       "    <tr>\n",
       "      <th>2</th>\n",
       "      <td>123four, five:; six...</td>\n",
       "    </tr>\n",
       "  </tbody>\n",
       "</table>\n",
       "</div>"
      ],
      "text/plain": [
       "                  SUMMARY\n",
       "0           hello, world!\n",
       "1              XXXXX test\n",
       "2  123four, five:; six..."
      ]
     },
     "execution_count": 3,
     "metadata": {},
     "output_type": "execute_result"
    }
   ],
   "source": [
    "df"
   ]
  },
  {
   "cell_type": "code",
   "execution_count": 4,
   "id": "51c95d28",
   "metadata": {},
   "outputs": [],
   "source": [
    "pattern_2 =\"[^a-z\\s]\"\n",
    "output = df['SUMMARY'].str.replace(pattern_2,\"\",regex=True)"
   ]
  },
  {
   "cell_type": "code",
   "execution_count": 5,
   "id": "e039e552",
   "metadata": {},
   "outputs": [
    {
     "data": {
      "text/plain": [
       "0      hello world\n",
       "1             test\n",
       "2    four five six\n",
       "Name: SUMMARY, dtype: object"
      ]
     },
     "execution_count": 5,
     "metadata": {},
     "output_type": "execute_result"
    }
   ],
   "source": [
    "output"
   ]
  },
  {
   "cell_type": "markdown",
   "id": "756d3643",
   "metadata": {},
   "source": [
    "Question 3- Create a function in python to find all words that are at least 4 characters long in a string. The use of the re.compile() method is mandatory."
   ]
  },
  {
   "cell_type": "code",
   "execution_count": 6,
   "id": "7445cf16",
   "metadata": {},
   "outputs": [
    {
     "name": "stdout",
     "output_type": "stream",
     "text": [
      "<class 'str'>\n",
      "<class 're.Pattern'>\n"
     ]
    }
   ],
   "source": [
    "string = \"\"\"This form allows you to generate random text strings. \n",
    "The randomness comes from atmospheric noise,  1234 which for many purposes is better than \n",
    "the pseudo-random number algorithms typically used in computer programs.\"\"\"\n",
    "Pattern_3 = \"\\w{4,}\"\n",
    "Function = re.compile(Pattern_3)\n",
    "result_3 = Function.findall(string)\n",
    "print(type(Pattern_3))\n",
    "print(type(Function))"
   ]
  },
  {
   "cell_type": "code",
   "execution_count": 7,
   "id": "e31294d9",
   "metadata": {},
   "outputs": [
    {
     "name": "stdout",
     "output_type": "stream",
     "text": [
      "['This', 'form', 'allows', 'generate', 'random', 'text', 'strings', 'randomness', 'comes', 'from', 'atmospheric', 'noise', '1234', 'which', 'many', 'purposes', 'better', 'than', 'pseudo', 'random', 'number', 'algorithms', 'typically', 'used', 'computer', 'programs']\n"
     ]
    }
   ],
   "source": [
    "print(result_3)"
   ]
  },
  {
   "cell_type": "markdown",
   "id": "c70bec73",
   "metadata": {},
   "source": [
    "Question 4- Create a function in python to find all three, four, and five character words in a string. The use of the re.compile() method is mandatory."
   ]
  },
  {
   "cell_type": "code",
   "execution_count": 8,
   "id": "7306cafa",
   "metadata": {},
   "outputs": [
    {
     "name": "stdout",
     "output_type": "stream",
     "text": [
      "<class 're.Pattern'>\n",
      "['This', 'form', 'allow', 'you', 'gener', 'ate', 'rando', 'text', 'strin', 'The', 'rando', 'mness', 'comes', 'from', 'atmos', 'pheri', 'noise', 'which', 'for', 'many', 'purpo', 'ses', 'bette', 'than', 'the', 'pseud', 'rando', 'numbe', 'algor', 'ithms', 'typic', 'ally', 'used', 'compu', 'ter', 'progr', 'ams']\n"
     ]
    }
   ],
   "source": [
    "string = \"\"\"This form allows you to generate random text strings. \n",
    "The randomness comes from atmospheric noise, which for many purposes is better than \n",
    "the pseudo-random number algorithms typically used in computer programs.\"\"\"\n",
    "Pattern_4 = r\"\\w{3,5}\"\n",
    "Function_4 = re.compile(Pattern_4)\n",
    "result_4 = Function_4.findall(string)\n",
    "print(type(Function_4))\n",
    "print(result_4)"
   ]
  },
  {
   "cell_type": "markdown",
   "id": "c45974cf",
   "metadata": {},
   "source": [
    "Question 5- Create a function in Python to remove the parenthesis in a list of strings. The use of the re.compile() method is mandatory.\n",
    "Sample Text: [\"example (.com)\", \"hr@fliprobo (.com)\", \"github (.com)\", \"Hello (Data Science World)\", \"Data (Scientist)\"]\n",
    "Expected Output:\n",
    "example.com\n",
    "hr@fliprobo.com\n",
    "github.com\n",
    "Hello Data Science World\n"
   ]
  },
  {
   "cell_type": "code",
   "execution_count": 9,
   "id": "c2bb7313",
   "metadata": {},
   "outputs": [
    {
     "name": "stdout",
     "output_type": "stream",
     "text": [
      "example.com\n",
      "hr@fliprobo.com\n",
      "github.com\n",
      "Hello Data Science World\n",
      "Data Scientist\n"
     ]
    }
   ],
   "source": [
    "Sample_Text = [\"example(.com)\", \"hr@fliprobo(.com)\", \"github(.com)\", \"Hello (Data Science World)\", \n",
    "               \"Data (Scientist)\"]\n",
    "Pattern_5 = r\"\\(|\\)\"\n",
    "Function_5 = re.compile(Pattern_5)\n",
    "for sample in Sample_Text:\n",
    "    result_5 = Function_5.sub(\"\",sample)\n",
    "    print(result_5)"
   ]
  },
  {
   "cell_type": "markdown",
   "id": "83f492a0",
   "metadata": {},
   "source": [
    "Question 6- Write a python program to remove the parenthesis area from the text stored in the text file using Regular Expression.\n",
    "Sample Text: [\"example (.com)\", \"hr@fliprobo (.com)\", \"github (.com)\", \"Hello (Data Science World)\", \"Data (Scientist)\"]\n",
    "Expected Output: [\"example\", \"hr@fliprobo\", \"github\", \"Hello\", \"Data\"]\n",
    "Note- Store given sample text in the text file and then to remove the parenthesis area from the text.\n"
   ]
  },
  {
   "cell_type": "code",
   "execution_count": 10,
   "id": "15231b63",
   "metadata": {},
   "outputs": [
    {
     "name": "stdout",
     "output_type": "stream",
     "text": [
      "\"example\"\n",
      "\n",
      "\"hr@fliprobo\"\n",
      "\n",
      "\"github\"\n",
      "\n",
      "\"Hello \"\n",
      "\n",
      "\"Data \"\n"
     ]
    }
   ],
   "source": [
    "pattern_6 = r\"\\(.*\\)\"\n",
    "Function_6 = re.compile(pattern_6)\n",
    "\n",
    "with open(\"regex.txt\") as fp:\n",
    "    for line in fp:\n",
    "        result_6 = Function_6.sub(\"\",line)\n",
    "        print(result_6)\n",
    "    \n"
   ]
  },
  {
   "cell_type": "markdown",
   "id": "f857196f",
   "metadata": {},
   "source": [
    "Question 7- Write a regular expression in Python to split a string into uppercase letters.\n",
    "Sample text: “ImportanceOfRegularExpressionsInPython”\n",
    "Expected Output: [‘Importance’, ‘Of’, ‘Regular’, ‘Expression’, ‘In’, ‘Python’]\n"
   ]
  },
  {
   "cell_type": "code",
   "execution_count": 11,
   "id": "26a69139",
   "metadata": {},
   "outputs": [
    {
     "name": "stdout",
     "output_type": "stream",
     "text": [
      "['Importance', 'Of', 'Regular', 'Expressions', 'In', 'Python']\n"
     ]
    }
   ],
   "source": [
    "text_7 = \"ImportanceOfRegularExpressionsInPython\"\n",
    "pattern_7 = \"[A-Z][^A-Z]*\"\n",
    "result_7 =  re.findall(pattern_7,text_7)\n",
    "print(result_7)"
   ]
  },
  {
   "cell_type": "markdown",
   "id": "e104f29a",
   "metadata": {},
   "source": [
    "Question 8- Create a function in python to insert spaces between words starting with numbers.\n",
    "Sample Text: “RegularExpression1IsAn2ImportantTopic3InPython\"\n",
    "Expected Output: RegularExpression 1IsAn 2ImportantTopic 3InPython\n"
   ]
  },
  {
   "cell_type": "code",
   "execution_count": 12,
   "id": "16d6440d",
   "metadata": {},
   "outputs": [
    {
     "name": "stdout",
     "output_type": "stream",
     "text": [
      "RegularExpression 1IsAn 2ImportantTopic 3InPython\n"
     ]
    }
   ],
   "source": [
    "text_8 = \"RegularExpression1IsAn2ImportantTopic3InPython\"\n",
    "pattern_8 =\"(\\d+)\"\n",
    "def insert_space(s):\n",
    "    result_8 = re.sub(pattern_8,r\" \\1\",s)\n",
    "    print(result_8)\n",
    "insert_space(text_8)    "
   ]
  },
  {
   "cell_type": "markdown",
   "id": "099cae8c",
   "metadata": {},
   "source": [
    "Question 9- Create a function in python to insert spaces between words starting with capital letters or with numbers.\n",
    "Sample Text: “RegularExpression1IsAn2ImportantTopic3InPython\"\n",
    "Expected Output:  RegularExpression 1 IsAn 2 ImportantTopic 3 InPython\n"
   ]
  },
  {
   "cell_type": "code",
   "execution_count": 13,
   "id": "48de9f12",
   "metadata": {},
   "outputs": [
    {
     "name": "stdout",
     "output_type": "stream",
     "text": [
      "RegularExpression 1 IsAn 2 ImportantTopic 3 InPython\n"
     ]
    }
   ],
   "source": [
    "text_9 = \"RegularExpression1IsAn2ImportantTopic3InPython\"\n",
    "pattern_9 =\"(\\d+)([A-Z])\"\n",
    "def insert_space_9(s):\n",
    "    result_9 = re.sub(pattern_9,r\" \\1 \\2\",s)\n",
    "    print(result_9)\n",
    "insert_space_9(text_9)    "
   ]
  },
  {
   "cell_type": "markdown",
   "id": "a81f6a10",
   "metadata": {},
   "source": [
    "Question 10- Use the github link below to read the data and create a dataframe. After creating the dataframe extract the first 6 letters of each country and store in the dataframe under a new column called first_five_letters.\n",
    "Github Link-  https://raw.githubusercontent.com/dsrscientist/DSData/master/happiness_score_dataset.csv\n",
    "\n"
   ]
  },
  {
   "cell_type": "code",
   "execution_count": 71,
   "id": "3a4505a0",
   "metadata": {},
   "outputs": [],
   "source": [
    "data_10 = pd.read_csv(r'https://raw.githubusercontent.com/dsrscientist/DSData/master/happiness_score_dataset.csv')"
   ]
  },
  {
   "cell_type": "code",
   "execution_count": 72,
   "id": "e143eae2",
   "metadata": {},
   "outputs": [
    {
     "data": {
      "text/html": [
       "<div>\n",
       "<style scoped>\n",
       "    .dataframe tbody tr th:only-of-type {\n",
       "        vertical-align: middle;\n",
       "    }\n",
       "\n",
       "    .dataframe tbody tr th {\n",
       "        vertical-align: top;\n",
       "    }\n",
       "\n",
       "    .dataframe thead th {\n",
       "        text-align: right;\n",
       "    }\n",
       "</style>\n",
       "<table border=\"1\" class=\"dataframe\">\n",
       "  <thead>\n",
       "    <tr style=\"text-align: right;\">\n",
       "      <th></th>\n",
       "      <th>Country</th>\n",
       "      <th>Region</th>\n",
       "      <th>Happiness Rank</th>\n",
       "      <th>Happiness Score</th>\n",
       "      <th>Standard Error</th>\n",
       "      <th>Economy (GDP per Capita)</th>\n",
       "      <th>Family</th>\n",
       "      <th>Health (Life Expectancy)</th>\n",
       "      <th>Freedom</th>\n",
       "      <th>Trust (Government Corruption)</th>\n",
       "      <th>Generosity</th>\n",
       "      <th>Dystopia Residual</th>\n",
       "    </tr>\n",
       "  </thead>\n",
       "  <tbody>\n",
       "    <tr>\n",
       "      <th>0</th>\n",
       "      <td>Switzerland</td>\n",
       "      <td>Western Europe</td>\n",
       "      <td>1</td>\n",
       "      <td>7.587</td>\n",
       "      <td>0.03411</td>\n",
       "      <td>1.39651</td>\n",
       "      <td>1.34951</td>\n",
       "      <td>0.94143</td>\n",
       "      <td>0.66557</td>\n",
       "      <td>0.41978</td>\n",
       "      <td>0.29678</td>\n",
       "      <td>2.51738</td>\n",
       "    </tr>\n",
       "    <tr>\n",
       "      <th>1</th>\n",
       "      <td>Iceland</td>\n",
       "      <td>Western Europe</td>\n",
       "      <td>2</td>\n",
       "      <td>7.561</td>\n",
       "      <td>0.04884</td>\n",
       "      <td>1.30232</td>\n",
       "      <td>1.40223</td>\n",
       "      <td>0.94784</td>\n",
       "      <td>0.62877</td>\n",
       "      <td>0.14145</td>\n",
       "      <td>0.43630</td>\n",
       "      <td>2.70201</td>\n",
       "    </tr>\n",
       "    <tr>\n",
       "      <th>2</th>\n",
       "      <td>Denmark</td>\n",
       "      <td>Western Europe</td>\n",
       "      <td>3</td>\n",
       "      <td>7.527</td>\n",
       "      <td>0.03328</td>\n",
       "      <td>1.32548</td>\n",
       "      <td>1.36058</td>\n",
       "      <td>0.87464</td>\n",
       "      <td>0.64938</td>\n",
       "      <td>0.48357</td>\n",
       "      <td>0.34139</td>\n",
       "      <td>2.49204</td>\n",
       "    </tr>\n",
       "    <tr>\n",
       "      <th>3</th>\n",
       "      <td>Norway</td>\n",
       "      <td>Western Europe</td>\n",
       "      <td>4</td>\n",
       "      <td>7.522</td>\n",
       "      <td>0.03880</td>\n",
       "      <td>1.45900</td>\n",
       "      <td>1.33095</td>\n",
       "      <td>0.88521</td>\n",
       "      <td>0.66973</td>\n",
       "      <td>0.36503</td>\n",
       "      <td>0.34699</td>\n",
       "      <td>2.46531</td>\n",
       "    </tr>\n",
       "    <tr>\n",
       "      <th>4</th>\n",
       "      <td>Canada</td>\n",
       "      <td>North America</td>\n",
       "      <td>5</td>\n",
       "      <td>7.427</td>\n",
       "      <td>0.03553</td>\n",
       "      <td>1.32629</td>\n",
       "      <td>1.32261</td>\n",
       "      <td>0.90563</td>\n",
       "      <td>0.63297</td>\n",
       "      <td>0.32957</td>\n",
       "      <td>0.45811</td>\n",
       "      <td>2.45176</td>\n",
       "    </tr>\n",
       "    <tr>\n",
       "      <th>...</th>\n",
       "      <td>...</td>\n",
       "      <td>...</td>\n",
       "      <td>...</td>\n",
       "      <td>...</td>\n",
       "      <td>...</td>\n",
       "      <td>...</td>\n",
       "      <td>...</td>\n",
       "      <td>...</td>\n",
       "      <td>...</td>\n",
       "      <td>...</td>\n",
       "      <td>...</td>\n",
       "      <td>...</td>\n",
       "    </tr>\n",
       "    <tr>\n",
       "      <th>153</th>\n",
       "      <td>Rwanda</td>\n",
       "      <td>Sub-Saharan Africa</td>\n",
       "      <td>154</td>\n",
       "      <td>3.465</td>\n",
       "      <td>0.03464</td>\n",
       "      <td>0.22208</td>\n",
       "      <td>0.77370</td>\n",
       "      <td>0.42864</td>\n",
       "      <td>0.59201</td>\n",
       "      <td>0.55191</td>\n",
       "      <td>0.22628</td>\n",
       "      <td>0.67042</td>\n",
       "    </tr>\n",
       "    <tr>\n",
       "      <th>154</th>\n",
       "      <td>Benin</td>\n",
       "      <td>Sub-Saharan Africa</td>\n",
       "      <td>155</td>\n",
       "      <td>3.340</td>\n",
       "      <td>0.03656</td>\n",
       "      <td>0.28665</td>\n",
       "      <td>0.35386</td>\n",
       "      <td>0.31910</td>\n",
       "      <td>0.48450</td>\n",
       "      <td>0.08010</td>\n",
       "      <td>0.18260</td>\n",
       "      <td>1.63328</td>\n",
       "    </tr>\n",
       "    <tr>\n",
       "      <th>155</th>\n",
       "      <td>Syria</td>\n",
       "      <td>Middle East and Northern Africa</td>\n",
       "      <td>156</td>\n",
       "      <td>3.006</td>\n",
       "      <td>0.05015</td>\n",
       "      <td>0.66320</td>\n",
       "      <td>0.47489</td>\n",
       "      <td>0.72193</td>\n",
       "      <td>0.15684</td>\n",
       "      <td>0.18906</td>\n",
       "      <td>0.47179</td>\n",
       "      <td>0.32858</td>\n",
       "    </tr>\n",
       "    <tr>\n",
       "      <th>156</th>\n",
       "      <td>Burundi</td>\n",
       "      <td>Sub-Saharan Africa</td>\n",
       "      <td>157</td>\n",
       "      <td>2.905</td>\n",
       "      <td>0.08658</td>\n",
       "      <td>0.01530</td>\n",
       "      <td>0.41587</td>\n",
       "      <td>0.22396</td>\n",
       "      <td>0.11850</td>\n",
       "      <td>0.10062</td>\n",
       "      <td>0.19727</td>\n",
       "      <td>1.83302</td>\n",
       "    </tr>\n",
       "    <tr>\n",
       "      <th>157</th>\n",
       "      <td>Togo</td>\n",
       "      <td>Sub-Saharan Africa</td>\n",
       "      <td>158</td>\n",
       "      <td>2.839</td>\n",
       "      <td>0.06727</td>\n",
       "      <td>0.20868</td>\n",
       "      <td>0.13995</td>\n",
       "      <td>0.28443</td>\n",
       "      <td>0.36453</td>\n",
       "      <td>0.10731</td>\n",
       "      <td>0.16681</td>\n",
       "      <td>1.56726</td>\n",
       "    </tr>\n",
       "  </tbody>\n",
       "</table>\n",
       "<p>158 rows × 12 columns</p>\n",
       "</div>"
      ],
      "text/plain": [
       "         Country                           Region  Happiness Rank  \\\n",
       "0    Switzerland                   Western Europe               1   \n",
       "1        Iceland                   Western Europe               2   \n",
       "2        Denmark                   Western Europe               3   \n",
       "3         Norway                   Western Europe               4   \n",
       "4         Canada                    North America               5   \n",
       "..           ...                              ...             ...   \n",
       "153       Rwanda               Sub-Saharan Africa             154   \n",
       "154        Benin               Sub-Saharan Africa             155   \n",
       "155        Syria  Middle East and Northern Africa             156   \n",
       "156      Burundi               Sub-Saharan Africa             157   \n",
       "157         Togo               Sub-Saharan Africa             158   \n",
       "\n",
       "     Happiness Score  Standard Error  Economy (GDP per Capita)   Family  \\\n",
       "0              7.587         0.03411                   1.39651  1.34951   \n",
       "1              7.561         0.04884                   1.30232  1.40223   \n",
       "2              7.527         0.03328                   1.32548  1.36058   \n",
       "3              7.522         0.03880                   1.45900  1.33095   \n",
       "4              7.427         0.03553                   1.32629  1.32261   \n",
       "..               ...             ...                       ...      ...   \n",
       "153            3.465         0.03464                   0.22208  0.77370   \n",
       "154            3.340         0.03656                   0.28665  0.35386   \n",
       "155            3.006         0.05015                   0.66320  0.47489   \n",
       "156            2.905         0.08658                   0.01530  0.41587   \n",
       "157            2.839         0.06727                   0.20868  0.13995   \n",
       "\n",
       "     Health (Life Expectancy)  Freedom  Trust (Government Corruption)  \\\n",
       "0                     0.94143  0.66557                        0.41978   \n",
       "1                     0.94784  0.62877                        0.14145   \n",
       "2                     0.87464  0.64938                        0.48357   \n",
       "3                     0.88521  0.66973                        0.36503   \n",
       "4                     0.90563  0.63297                        0.32957   \n",
       "..                        ...      ...                            ...   \n",
       "153                   0.42864  0.59201                        0.55191   \n",
       "154                   0.31910  0.48450                        0.08010   \n",
       "155                   0.72193  0.15684                        0.18906   \n",
       "156                   0.22396  0.11850                        0.10062   \n",
       "157                   0.28443  0.36453                        0.10731   \n",
       "\n",
       "     Generosity  Dystopia Residual  \n",
       "0       0.29678            2.51738  \n",
       "1       0.43630            2.70201  \n",
       "2       0.34139            2.49204  \n",
       "3       0.34699            2.46531  \n",
       "4       0.45811            2.45176  \n",
       "..          ...                ...  \n",
       "153     0.22628            0.67042  \n",
       "154     0.18260            1.63328  \n",
       "155     0.47179            0.32858  \n",
       "156     0.19727            1.83302  \n",
       "157     0.16681            1.56726  \n",
       "\n",
       "[158 rows x 12 columns]"
      ]
     },
     "execution_count": 72,
     "metadata": {},
     "output_type": "execute_result"
    }
   ],
   "source": [
    "data_10"
   ]
  },
  {
   "cell_type": "code",
   "execution_count": 164,
   "id": "6e4afb8e",
   "metadata": {},
   "outputs": [],
   "source": [
    "pattern_10 =  r\"(\\b\\w{6})\"\n",
    "data_10['first_five'] = data_10['Country'].str.extract(pattern_10,expand=True)"
   ]
  },
  {
   "cell_type": "code",
   "execution_count": 165,
   "id": "6e150eb7",
   "metadata": {},
   "outputs": [
    {
     "data": {
      "text/html": [
       "<div>\n",
       "<style scoped>\n",
       "    .dataframe tbody tr th:only-of-type {\n",
       "        vertical-align: middle;\n",
       "    }\n",
       "\n",
       "    .dataframe tbody tr th {\n",
       "        vertical-align: top;\n",
       "    }\n",
       "\n",
       "    .dataframe thead th {\n",
       "        text-align: right;\n",
       "    }\n",
       "</style>\n",
       "<table border=\"1\" class=\"dataframe\">\n",
       "  <thead>\n",
       "    <tr style=\"text-align: right;\">\n",
       "      <th></th>\n",
       "      <th>Country</th>\n",
       "      <th>Region</th>\n",
       "      <th>Happiness Rank</th>\n",
       "      <th>Happiness Score</th>\n",
       "      <th>Standard Error</th>\n",
       "      <th>Economy (GDP per Capita)</th>\n",
       "      <th>Family</th>\n",
       "      <th>Health (Life Expectancy)</th>\n",
       "      <th>Freedom</th>\n",
       "      <th>Trust (Government Corruption)</th>\n",
       "      <th>Generosity</th>\n",
       "      <th>Dystopia Residual</th>\n",
       "      <th>first_five</th>\n",
       "    </tr>\n",
       "  </thead>\n",
       "  <tbody>\n",
       "    <tr>\n",
       "      <th>0</th>\n",
       "      <td>Switzerland</td>\n",
       "      <td>Western Europe</td>\n",
       "      <td>1</td>\n",
       "      <td>7.587</td>\n",
       "      <td>0.03411</td>\n",
       "      <td>1.39651</td>\n",
       "      <td>1.34951</td>\n",
       "      <td>0.94143</td>\n",
       "      <td>0.66557</td>\n",
       "      <td>0.41978</td>\n",
       "      <td>0.29678</td>\n",
       "      <td>2.51738</td>\n",
       "      <td>Switze</td>\n",
       "    </tr>\n",
       "    <tr>\n",
       "      <th>1</th>\n",
       "      <td>Iceland</td>\n",
       "      <td>Western Europe</td>\n",
       "      <td>2</td>\n",
       "      <td>7.561</td>\n",
       "      <td>0.04884</td>\n",
       "      <td>1.30232</td>\n",
       "      <td>1.40223</td>\n",
       "      <td>0.94784</td>\n",
       "      <td>0.62877</td>\n",
       "      <td>0.14145</td>\n",
       "      <td>0.43630</td>\n",
       "      <td>2.70201</td>\n",
       "      <td>Icelan</td>\n",
       "    </tr>\n",
       "    <tr>\n",
       "      <th>2</th>\n",
       "      <td>Denmark</td>\n",
       "      <td>Western Europe</td>\n",
       "      <td>3</td>\n",
       "      <td>7.527</td>\n",
       "      <td>0.03328</td>\n",
       "      <td>1.32548</td>\n",
       "      <td>1.36058</td>\n",
       "      <td>0.87464</td>\n",
       "      <td>0.64938</td>\n",
       "      <td>0.48357</td>\n",
       "      <td>0.34139</td>\n",
       "      <td>2.49204</td>\n",
       "      <td>Denmar</td>\n",
       "    </tr>\n",
       "    <tr>\n",
       "      <th>3</th>\n",
       "      <td>Norway</td>\n",
       "      <td>Western Europe</td>\n",
       "      <td>4</td>\n",
       "      <td>7.522</td>\n",
       "      <td>0.03880</td>\n",
       "      <td>1.45900</td>\n",
       "      <td>1.33095</td>\n",
       "      <td>0.88521</td>\n",
       "      <td>0.66973</td>\n",
       "      <td>0.36503</td>\n",
       "      <td>0.34699</td>\n",
       "      <td>2.46531</td>\n",
       "      <td>Norway</td>\n",
       "    </tr>\n",
       "    <tr>\n",
       "      <th>4</th>\n",
       "      <td>Canada</td>\n",
       "      <td>North America</td>\n",
       "      <td>5</td>\n",
       "      <td>7.427</td>\n",
       "      <td>0.03553</td>\n",
       "      <td>1.32629</td>\n",
       "      <td>1.32261</td>\n",
       "      <td>0.90563</td>\n",
       "      <td>0.63297</td>\n",
       "      <td>0.32957</td>\n",
       "      <td>0.45811</td>\n",
       "      <td>2.45176</td>\n",
       "      <td>Canada</td>\n",
       "    </tr>\n",
       "    <tr>\n",
       "      <th>5</th>\n",
       "      <td>Finland</td>\n",
       "      <td>Western Europe</td>\n",
       "      <td>6</td>\n",
       "      <td>7.406</td>\n",
       "      <td>0.03140</td>\n",
       "      <td>1.29025</td>\n",
       "      <td>1.31826</td>\n",
       "      <td>0.88911</td>\n",
       "      <td>0.64169</td>\n",
       "      <td>0.41372</td>\n",
       "      <td>0.23351</td>\n",
       "      <td>2.61955</td>\n",
       "      <td>Finlan</td>\n",
       "    </tr>\n",
       "    <tr>\n",
       "      <th>6</th>\n",
       "      <td>Netherlands</td>\n",
       "      <td>Western Europe</td>\n",
       "      <td>7</td>\n",
       "      <td>7.378</td>\n",
       "      <td>0.02799</td>\n",
       "      <td>1.32944</td>\n",
       "      <td>1.28017</td>\n",
       "      <td>0.89284</td>\n",
       "      <td>0.61576</td>\n",
       "      <td>0.31814</td>\n",
       "      <td>0.47610</td>\n",
       "      <td>2.46570</td>\n",
       "      <td>Nether</td>\n",
       "    </tr>\n",
       "    <tr>\n",
       "      <th>7</th>\n",
       "      <td>Sweden</td>\n",
       "      <td>Western Europe</td>\n",
       "      <td>8</td>\n",
       "      <td>7.364</td>\n",
       "      <td>0.03157</td>\n",
       "      <td>1.33171</td>\n",
       "      <td>1.28907</td>\n",
       "      <td>0.91087</td>\n",
       "      <td>0.65980</td>\n",
       "      <td>0.43844</td>\n",
       "      <td>0.36262</td>\n",
       "      <td>2.37119</td>\n",
       "      <td>Sweden</td>\n",
       "    </tr>\n",
       "    <tr>\n",
       "      <th>8</th>\n",
       "      <td>New Zealand</td>\n",
       "      <td>Australia and New Zealand</td>\n",
       "      <td>9</td>\n",
       "      <td>7.286</td>\n",
       "      <td>0.03371</td>\n",
       "      <td>1.25018</td>\n",
       "      <td>1.31967</td>\n",
       "      <td>0.90837</td>\n",
       "      <td>0.63938</td>\n",
       "      <td>0.42922</td>\n",
       "      <td>0.47501</td>\n",
       "      <td>2.26425</td>\n",
       "      <td>Zealan</td>\n",
       "    </tr>\n",
       "    <tr>\n",
       "      <th>9</th>\n",
       "      <td>Australia</td>\n",
       "      <td>Australia and New Zealand</td>\n",
       "      <td>10</td>\n",
       "      <td>7.284</td>\n",
       "      <td>0.04083</td>\n",
       "      <td>1.33358</td>\n",
       "      <td>1.30923</td>\n",
       "      <td>0.93156</td>\n",
       "      <td>0.65124</td>\n",
       "      <td>0.35637</td>\n",
       "      <td>0.43562</td>\n",
       "      <td>2.26646</td>\n",
       "      <td>Austra</td>\n",
       "    </tr>\n",
       "    <tr>\n",
       "      <th>10</th>\n",
       "      <td>Israel</td>\n",
       "      <td>Middle East and Northern Africa</td>\n",
       "      <td>11</td>\n",
       "      <td>7.278</td>\n",
       "      <td>0.03470</td>\n",
       "      <td>1.22857</td>\n",
       "      <td>1.22393</td>\n",
       "      <td>0.91387</td>\n",
       "      <td>0.41319</td>\n",
       "      <td>0.07785</td>\n",
       "      <td>0.33172</td>\n",
       "      <td>3.08854</td>\n",
       "      <td>Israel</td>\n",
       "    </tr>\n",
       "    <tr>\n",
       "      <th>11</th>\n",
       "      <td>Costa Rica</td>\n",
       "      <td>Latin America and Caribbean</td>\n",
       "      <td>12</td>\n",
       "      <td>7.226</td>\n",
       "      <td>0.04454</td>\n",
       "      <td>0.95578</td>\n",
       "      <td>1.23788</td>\n",
       "      <td>0.86027</td>\n",
       "      <td>0.63376</td>\n",
       "      <td>0.10583</td>\n",
       "      <td>0.25497</td>\n",
       "      <td>3.17728</td>\n",
       "      <td>NaN</td>\n",
       "    </tr>\n",
       "    <tr>\n",
       "      <th>12</th>\n",
       "      <td>Austria</td>\n",
       "      <td>Western Europe</td>\n",
       "      <td>13</td>\n",
       "      <td>7.200</td>\n",
       "      <td>0.03751</td>\n",
       "      <td>1.33723</td>\n",
       "      <td>1.29704</td>\n",
       "      <td>0.89042</td>\n",
       "      <td>0.62433</td>\n",
       "      <td>0.18676</td>\n",
       "      <td>0.33088</td>\n",
       "      <td>2.53320</td>\n",
       "      <td>Austri</td>\n",
       "    </tr>\n",
       "    <tr>\n",
       "      <th>13</th>\n",
       "      <td>Mexico</td>\n",
       "      <td>Latin America and Caribbean</td>\n",
       "      <td>14</td>\n",
       "      <td>7.187</td>\n",
       "      <td>0.04176</td>\n",
       "      <td>1.02054</td>\n",
       "      <td>0.91451</td>\n",
       "      <td>0.81444</td>\n",
       "      <td>0.48181</td>\n",
       "      <td>0.21312</td>\n",
       "      <td>0.14074</td>\n",
       "      <td>3.60214</td>\n",
       "      <td>Mexico</td>\n",
       "    </tr>\n",
       "    <tr>\n",
       "      <th>14</th>\n",
       "      <td>United States</td>\n",
       "      <td>North America</td>\n",
       "      <td>15</td>\n",
       "      <td>7.119</td>\n",
       "      <td>0.03839</td>\n",
       "      <td>1.39451</td>\n",
       "      <td>1.24711</td>\n",
       "      <td>0.86179</td>\n",
       "      <td>0.54604</td>\n",
       "      <td>0.15890</td>\n",
       "      <td>0.40105</td>\n",
       "      <td>2.51011</td>\n",
       "      <td>United</td>\n",
       "    </tr>\n",
       "  </tbody>\n",
       "</table>\n",
       "</div>"
      ],
      "text/plain": [
       "          Country                           Region  Happiness Rank  \\\n",
       "0     Switzerland                   Western Europe               1   \n",
       "1         Iceland                   Western Europe               2   \n",
       "2         Denmark                   Western Europe               3   \n",
       "3          Norway                   Western Europe               4   \n",
       "4          Canada                    North America               5   \n",
       "5         Finland                   Western Europe               6   \n",
       "6     Netherlands                   Western Europe               7   \n",
       "7          Sweden                   Western Europe               8   \n",
       "8     New Zealand        Australia and New Zealand               9   \n",
       "9       Australia        Australia and New Zealand              10   \n",
       "10         Israel  Middle East and Northern Africa              11   \n",
       "11     Costa Rica      Latin America and Caribbean              12   \n",
       "12        Austria                   Western Europe              13   \n",
       "13         Mexico      Latin America and Caribbean              14   \n",
       "14  United States                    North America              15   \n",
       "\n",
       "    Happiness Score  Standard Error  Economy (GDP per Capita)   Family  \\\n",
       "0             7.587         0.03411                   1.39651  1.34951   \n",
       "1             7.561         0.04884                   1.30232  1.40223   \n",
       "2             7.527         0.03328                   1.32548  1.36058   \n",
       "3             7.522         0.03880                   1.45900  1.33095   \n",
       "4             7.427         0.03553                   1.32629  1.32261   \n",
       "5             7.406         0.03140                   1.29025  1.31826   \n",
       "6             7.378         0.02799                   1.32944  1.28017   \n",
       "7             7.364         0.03157                   1.33171  1.28907   \n",
       "8             7.286         0.03371                   1.25018  1.31967   \n",
       "9             7.284         0.04083                   1.33358  1.30923   \n",
       "10            7.278         0.03470                   1.22857  1.22393   \n",
       "11            7.226         0.04454                   0.95578  1.23788   \n",
       "12            7.200         0.03751                   1.33723  1.29704   \n",
       "13            7.187         0.04176                   1.02054  0.91451   \n",
       "14            7.119         0.03839                   1.39451  1.24711   \n",
       "\n",
       "    Health (Life Expectancy)  Freedom  Trust (Government Corruption)  \\\n",
       "0                    0.94143  0.66557                        0.41978   \n",
       "1                    0.94784  0.62877                        0.14145   \n",
       "2                    0.87464  0.64938                        0.48357   \n",
       "3                    0.88521  0.66973                        0.36503   \n",
       "4                    0.90563  0.63297                        0.32957   \n",
       "5                    0.88911  0.64169                        0.41372   \n",
       "6                    0.89284  0.61576                        0.31814   \n",
       "7                    0.91087  0.65980                        0.43844   \n",
       "8                    0.90837  0.63938                        0.42922   \n",
       "9                    0.93156  0.65124                        0.35637   \n",
       "10                   0.91387  0.41319                        0.07785   \n",
       "11                   0.86027  0.63376                        0.10583   \n",
       "12                   0.89042  0.62433                        0.18676   \n",
       "13                   0.81444  0.48181                        0.21312   \n",
       "14                   0.86179  0.54604                        0.15890   \n",
       "\n",
       "    Generosity  Dystopia Residual first_five  \n",
       "0      0.29678            2.51738     Switze  \n",
       "1      0.43630            2.70201     Icelan  \n",
       "2      0.34139            2.49204     Denmar  \n",
       "3      0.34699            2.46531     Norway  \n",
       "4      0.45811            2.45176     Canada  \n",
       "5      0.23351            2.61955     Finlan  \n",
       "6      0.47610            2.46570     Nether  \n",
       "7      0.36262            2.37119     Sweden  \n",
       "8      0.47501            2.26425     Zealan  \n",
       "9      0.43562            2.26646     Austra  \n",
       "10     0.33172            3.08854     Israel  \n",
       "11     0.25497            3.17728        NaN  \n",
       "12     0.33088            2.53320     Austri  \n",
       "13     0.14074            3.60214     Mexico  \n",
       "14     0.40105            2.51011     United  "
      ]
     },
     "execution_count": 165,
     "metadata": {},
     "output_type": "execute_result"
    }
   ],
   "source": [
    "data_10.head(15)"
   ]
  },
  {
   "cell_type": "markdown",
   "id": "12160fa4",
   "metadata": {},
   "source": [
    "Question 11- Write a Python program to match a string that contains only upper and lowercase letters, numbers, and underscores."
   ]
  },
  {
   "cell_type": "code",
   "execution_count": 197,
   "id": "833969b0",
   "metadata": {},
   "outputs": [
    {
     "name": "stdout",
     "output_type": "stream",
     "text": [
      "not matched\n"
     ]
    }
   ],
   "source": [
    "def match_string(s):\n",
    "    pattern = re.compile(\"\\W\")\n",
    "    \n",
    "    match = pattern.findall(s)\n",
    "    if match:\n",
    "        print(\"not matched\")\n",
    "    else:\n",
    "        print(\"matched\")\n",
    "string_11 = \"sdmbkjscassd9f\"\n",
    "\n",
    "match_string(string_11)"
   ]
  },
  {
   "cell_type": "markdown",
   "id": "45a1c3c7",
   "metadata": {},
   "source": [
    "Question 12- Write a Python program where a string will start with a specific number. "
   ]
  },
  {
   "cell_type": "code",
   "execution_count": 201,
   "id": "fa43cdae",
   "metadata": {},
   "outputs": [
    {
     "name": "stdout",
     "output_type": "stream",
     "text": [
      "match\n"
     ]
    }
   ],
   "source": [
    "def start_num(i):\n",
    "    pattern = re.compile(\"^7\")\n",
    "    match = pattern.match(i)\n",
    "    if match:\n",
    "        print(\"match\")\n",
    "    else:\n",
    "        print(\"not matched\")\n",
    "string_12 = \"7bscv\"\n",
    "start_num(string_12)"
   ]
  },
  {
   "cell_type": "markdown",
   "id": "ba1a15b2",
   "metadata": {},
   "source": [
    "Question 13- Write a Python program to remove leading zeros from an IP address"
   ]
  },
  {
   "cell_type": "code",
   "execution_count": 229,
   "id": "e31b1723",
   "metadata": {},
   "outputs": [
    {
     "name": "stdout",
     "output_type": "stream",
     "text": [
      "123.45.167.8\n"
     ]
    }
   ],
   "source": [
    "ip_address = \"123.045.167.008\"\n",
    "def remove_zero(ip):\n",
    "    result = re.sub(\"\\.0+\",\".\",ip)\n",
    "    print(result)\n",
    "    \n",
    "remove_zero(ip_address)"
   ]
  },
  {
   "attachments": {},
   "cell_type": "markdown",
   "id": "d8de4369",
   "metadata": {},
   "source": [
    "Question 14- Write a regular expression in python to match a date string in the form of Month name followed by day number and year stored in a text file.Sample text :  ' On August 15th 1947 that India was declared independent from British colonialism, and the reins of control were handed over to the leaders of the Country’.\n",
    "Expected Output- August 15th 1947\n"
   ]
  },
  {
   "cell_type": "code",
   "execution_count": 258,
   "id": "58883d41",
   "metadata": {},
   "outputs": [
    {
     "name": "stdout",
     "output_type": "stream",
     "text": [
      "<re.Match object; span=(3, 19), match='August 15th 1947'>\n"
     ]
    }
   ],
   "source": [
    "pattern_14 = re.compile(\"\"\"(January?|February?|March?|April?|May|June?|July?|August?|September?\n",
    "                        |October?|November?|December?)\\s+\\d{1,2}(th|rd|nd)?\\s+\\d{4}\"\"\")\n",
    "with open(\"que14_regex.txt\") as file:\n",
    "    for line in file:\n",
    "        result_14 = pattern_14.search(line)\n",
    "        print(result_14)"
   ]
  },
  {
   "cell_type": "markdown",
   "id": "0a642169",
   "metadata": {},
   "source": [
    "Question 15- Write a Python program to search some literals strings in a string. \n",
    "Sample text : 'The quick brown fox jumps over the lazy dog.'\n",
    "Searched words : 'fox', 'dog', 'horse'\n"
   ]
  },
  {
   "cell_type": "code",
   "execution_count": 248,
   "id": "a9ee7814",
   "metadata": {},
   "outputs": [
    {
     "name": "stdout",
     "output_type": "stream",
     "text": [
      "['fox', 'dog']\n"
     ]
    }
   ],
   "source": [
    "Sample_15 = 'The quick brown fox jumps over the lazy dog.'\n",
    "pattern_15 = re.compile(\"fox|dog|horse\")\n",
    "result_15 = pattern_15.findall(Sample_15)\n",
    "print(result_15)"
   ]
  },
  {
   "cell_type": "markdown",
   "id": "fe0076cc",
   "metadata": {},
   "source": [
    "Question 16- Write a Python program to search a literals string in a string and also find the location within the original string where the pattern occurs\n",
    "Sample text : 'The quick brown fox jumps over the lazy dog.'\n",
    "Searched words : 'fox'\n"
   ]
  },
  {
   "cell_type": "code",
   "execution_count": 249,
   "id": "773c0834",
   "metadata": {
    "scrolled": true
   },
   "outputs": [
    {
     "name": "stdout",
     "output_type": "stream",
     "text": [
      "<re.Match object; span=(16, 19), match='fox'>\n"
     ]
    }
   ],
   "source": [
    "Sample_16 = 'The quick brown fox jumps over the lazy dog.'\n",
    "pattern_16 = re.compile(\"fox\")\n",
    "result_15 = pattern_15.search(Sample_15)\n",
    "print(result_15)"
   ]
  },
  {
   "cell_type": "markdown",
   "id": "7f6b3277",
   "metadata": {},
   "source": [
    "Question 17- Write a Python program to find the substrings within a string.\n",
    "Sample text : 'Python exercises, PHP exercises, C# exercises'\n",
    "Pattern : 'exercises'\n"
   ]
  },
  {
   "cell_type": "code",
   "execution_count": 279,
   "id": "7cb6d6c2",
   "metadata": {},
   "outputs": [
    {
     "name": "stdout",
     "output_type": "stream",
     "text": [
      "['exercises', 'exercises', 'exercises']\n"
     ]
    }
   ],
   "source": [
    "Sample_17 = 'Python exercises, PHP exercises, C# exercises.'\n",
    "pattern_17 = re.compile(\"exercises\")\n",
    "result_17 = pattern_17.findall(Sample_17)\n",
    "print(result_17)"
   ]
  },
  {
   "attachments": {},
   "cell_type": "markdown",
   "id": "4cde2fac",
   "metadata": {},
   "source": [
    "Question 18- Write a Python program to find the occurrence and position of the substrings within a string."
   ]
  },
  {
   "cell_type": "code",
   "execution_count": 282,
   "id": "0e95126b",
   "metadata": {},
   "outputs": [
    {
     "name": "stdout",
     "output_type": "stream",
     "text": [
      "<re.Match object; span=(7, 16), match='exercises'>\n",
      "<re.Match object; span=(22, 31), match='exercises'>\n",
      "<re.Match object; span=(36, 45), match='exercises'>\n"
     ]
    }
   ],
   "source": [
    "Sample_18 = 'Python exercises, PHP exercises, C# exercises.'\n",
    "for i in re.finditer(\"exercises\",Sample_18):\n",
    "    print(i)"
   ]
  },
  {
   "cell_type": "markdown",
   "id": "221e0c92",
   "metadata": {},
   "source": [
    "Question 19- Write a Python program to convert a date of yyyy-mm-dd format to dd-mm-yyyy format."
   ]
  },
  {
   "cell_type": "code",
   "execution_count": 291,
   "id": "c750b35a",
   "metadata": {},
   "outputs": [
    {
     "name": "stdout",
     "output_type": "stream",
     "text": [
      "1885-11-05\n"
     ]
    }
   ],
   "source": [
    "date = \"1885-11-05\"\n",
    "pattern_19 = r\"(\\d{4})-(\\d{2})-(\\d{2})\"\n",
    "result_19 = re.sub(pattern_19,r\"\\1-\\2-\\3\",date)\n",
    "print(result_19)"
   ]
  },
  {
   "cell_type": "markdown",
   "id": "1446ce51",
   "metadata": {},
   "source": [
    "Question 20- Create a function in python to find all decimal numbers with a precision of 1 or 2 in a string. The use of the re.compile() method is mandatory.\n",
    "Sample Text: \"01.12 0132.123 2.31875 145.8 3.01 27.25 0.25\"\n",
    "Expected Output: ['01.12', '145.8', '3.01', '27.25', '0.25']\n"
   ]
  },
  {
   "cell_type": "code",
   "execution_count": 295,
   "id": "cfdd00b0",
   "metadata": {},
   "outputs": [
    {
     "name": "stdout",
     "output_type": "stream",
     "text": [
      "['01.12', '145.8', '3.01', '27.25', '0.25']\n"
     ]
    }
   ],
   "source": [
    "Text_20 = \"01.12 0132.123 2.31875 145.8 3.01 27.25 0.25\"\n",
    "pattern_20 = re.compile(r\"\\d*[.]\\d{1,2}\\b\")\n",
    "result_20 = pattern_20.findall(Text_20)\n",
    "print(result_20)"
   ]
  },
  {
   "cell_type": "markdown",
   "id": "fe7dee46",
   "metadata": {},
   "source": [
    "Question 21- Write a Python program to separate and print the numbers and their position of a given string."
   ]
  },
  {
   "cell_type": "code",
   "execution_count": 329,
   "id": "608fc22b",
   "metadata": {},
   "outputs": [
    {
     "name": "stdout",
     "output_type": "stream",
     "text": [
      "Found \"438\" at 7 to 10\n",
      "Found \"827\" at 17 to 20\n",
      "Found \"44\" at 27 to 29\n"
     ]
    }
   ],
   "source": [
    "text_21 = \"hdsfjbs438bvcdsfh827hdfsDAC44\"\n",
    "pattern_21 = \"\\d+\"\n",
    "for num in re.finditer(pattern_21,text_21):\n",
    "    start = num.start()\n",
    "    end = num.end()\n",
    "    print('Found \"%s\" at %d to %d' % (text_21[start:end], start, end))\n",
    "\t"
   ]
  },
  {
   "cell_type": "markdown",
   "id": "67910537",
   "metadata": {},
   "source": [
    "Question 22- Write a regular expression in python program to extract maximum/largest numeric value from a string."
   ]
  },
  {
   "cell_type": "code",
   "execution_count": 336,
   "id": "747e7f9b",
   "metadata": {},
   "outputs": [
    {
     "data": {
      "text/plain": [
       "'950'"
      ]
     },
     "execution_count": 336,
     "metadata": {},
     "output_type": "execute_result"
    }
   ],
   "source": [
    "text_22='My marks in each semester are: 947, 896, 926, 524, 734, 950, 642'\n",
    "pattern_22 = \"\\d+\"\n",
    "numbers = max(re.findall(pattern_22,text_22))\n",
    "numbers"
   ]
  },
  {
   "cell_type": "markdown",
   "id": "f23f79c8",
   "metadata": {},
   "source": [
    "Question 23- Create a function in python to insert spaces between words starting with capital letters.\n",
    "Sample Text: “RegularExpressionIsAnImportantTopicInPython\"\n",
    "Expected Output: Regular Expression Is An Important Topic In Python\n"
   ]
  },
  {
   "cell_type": "code",
   "execution_count": 342,
   "id": "6feacfab",
   "metadata": {},
   "outputs": [
    {
     "name": "stdout",
     "output_type": "stream",
     "text": [
      " Regular Expression Is An Important Topic In Python\n"
     ]
    }
   ],
   "source": [
    "text_23 = \"RegularExpressionIsAnImportantTopicInPython\"\n",
    "pattern_23 =\"([A-Z])\"\n",
    "def insert_spaces(s):\n",
    "    result_23 = re.sub(pattern_23,r\" \\1\",s)\n",
    "    print(result_23)\n",
    "insert_spaces(text_23)    "
   ]
  },
  {
   "cell_type": "markdown",
   "id": "cad4efda",
   "metadata": {},
   "source": [
    "Question 24- Python regex to find sequences of one upper case letter followed by lower case letters"
   ]
  },
  {
   "cell_type": "code",
   "execution_count": 364,
   "id": "6298ade1",
   "metadata": {},
   "outputs": [
    {
     "name": "stdout",
     "output_type": "stream",
     "text": [
      "['Regular', 'Expression', 'Is', 'An', 'Important', 'Topic', 'In', 'Python']\n"
     ]
    }
   ],
   "source": [
    "text_24 = \"RegularExpressionIsAnImportantTopicInPython\"\n",
    "pattern_24 =r\"([A-Z][a-z]+)\"\n",
    "def find(s):\n",
    "    result_24 = re.findall(pattern_24,s)\n",
    "    print(result_24)\n",
    "find(text_24)    "
   ]
  },
  {
   "cell_type": "markdown",
   "id": "790607a8",
   "metadata": {},
   "source": [
    "Question 25- Write a Python program to remove continuous duplicate words from Sentence using Regular Expression."
   ]
  },
  {
   "cell_type": "code",
   "execution_count": 372,
   "id": "87acdad2",
   "metadata": {},
   "outputs": [
    {
     "name": "stdout",
     "output_type": "stream",
     "text": [
      "Hello hello world\n"
     ]
    }
   ],
   "source": [
    "Text_25 = \"Hello hello world world\"\n",
    "pattern_25 = r\"\\b(\\w+)(?:\\W+\\1\\b)+\"\n",
    "result_25 = re.sub(pattern_25,r'\\1',Text_25)\n",
    "print(result_25)"
   ]
  },
  {
   "cell_type": "markdown",
   "id": "415970c6",
   "metadata": {},
   "source": [
    "Question 26-  Write a python program using RegEx to accept string ending with alphanumeric character"
   ]
  },
  {
   "cell_type": "code",
   "execution_count": 379,
   "id": "027d8482",
   "metadata": {},
   "outputs": [
    {
     "name": "stdout",
     "output_type": "stream",
     "text": [
      "not accepted\n"
     ]
    }
   ],
   "source": [
    "text_26 = \"hello world 2024 d^\"\n",
    "pattern_26 = \"\\w$\"\n",
    "result_26 = re.search(pattern_26,text_26)\n",
    "if result_26:\n",
    "    print(\"accept\")\n",
    "else:\n",
    "    print(\"not accepted\")"
   ]
  },
  {
   "cell_type": "markdown",
   "id": "52a3bac6",
   "metadata": {},
   "source": [
    "Question 27-Write a python program using RegEx to extract the hashtags"
   ]
  },
  {
   "cell_type": "code",
   "execution_count": 398,
   "id": "82d9a004",
   "metadata": {},
   "outputs": [
    {
     "name": "stdout",
     "output_type": "stream",
     "text": [
      "['#Doltiwal', '#xyzabc', '#Demonetization']\n"
     ]
    }
   ],
   "source": [
    "Text_27=\"\"\"RT @kapil_kausik: #Doltiwal I mean #xyzabc is \"hurt\" by #Demonetization as the same has \n",
    "rendered USELESS <ed><U+00A0><U+00BD><ed><U+00B1><U+0089> \"acquired funds\" No wo\"\"\"\n",
    "pattern_27 = r\"#\\w+\"\n",
    "result_27 = re.findall(pattern_27,Text_27)\n",
    "print(result_27)"
   ]
  },
  {
   "cell_type": "markdown",
   "id": "8b32b2cd",
   "metadata": {},
   "source": [
    "Question 28- Write a python program using RegEx to remove <U+..> like symbols\n",
    "Check the below sample text, there are strange symbols something of the sort <U+..> all over the place. You need to come up with a general Regex expression that will cover all such symbols."
   ]
  },
  {
   "cell_type": "code",
   "execution_count": 474,
   "id": "020e7932",
   "metadata": {},
   "outputs": [
    {
     "name": "stdout",
     "output_type": "stream",
     "text": [
      "@Jags123456 Bharat band on 28??<ed><ed>Those who \n",
      "are protesting #demonetization  are all different party leaders\n"
     ]
    }
   ],
   "source": [
    "Text_28 = \"\"\"@Jags123456 Bharat band on 28??<ed><U+00A0><U+00BD><ed><U+00B8><U+0082>Those who \n",
    "are protesting #demonetization  are all different party leaders\"\"\"\n",
    "pattern_28 = r\"<U\\+\\w+>\"\n",
    "result_28 = re.sub(pattern_28,\"\",Text_28)\n",
    "print(result_28)"
   ]
  },
  {
   "cell_type": "markdown",
   "id": "2d3bcdf5",
   "metadata": {},
   "source": [
    "Question 29- Write a python program to extract dates from the text stored in the text file."
   ]
  },
  {
   "cell_type": "code",
   "execution_count": 480,
   "id": "0610f1f1",
   "metadata": {},
   "outputs": [
    {
     "name": "stdout",
     "output_type": "stream",
     "text": [
      "['12-09-1992', '15-12-1999']\n"
     ]
    }
   ],
   "source": [
    "pattern_29 = r\"\\d{2}-\\d{2}-\\d{4}\"\n",
    "with open('workfile.txt') as file:\n",
    "    for line in file:\n",
    "        result_29 = re.findall(pattern_29,line)\n",
    "        print(result_29)"
   ]
  },
  {
   "cell_type": "markdown",
   "id": "7ba95ad5",
   "metadata": {},
   "source": [
    "Question 30- Create a function in python to remove all words from a string of length between 2 and 4.\n",
    "The use of the re.compile() method is mandatory.\n"
   ]
  },
  {
   "cell_type": "code",
   "execution_count": 509,
   "id": "62f11cd7",
   "metadata": {},
   "outputs": [
    {
     "name": "stdout",
     "output_type": "stream",
     "text": [
      " following example creates  ArrayList  a capacity   elements.\n",
      "4 elements   added   ArrayList   ArrayList  trimmed accordingly.\n"
     ]
    }
   ],
   "source": [
    "Text_30 = \"\"\"The following example creates an ArrayList with a capacity of 50 elements.\n",
    "4 elements are then added to the ArrayList and the ArrayList is trimmed accordingly.\"\"\"\n",
    "def remove(text):\n",
    "    pattern_30 = re.compile(r\"\\b\\w{2,4}+\\b\")\n",
    "    result_30 = pattern_30.sub(\"\",Text_30)\n",
    "    print(result_30)\n",
    "remove(Text_30)\n"
   ]
  },
  {
   "cell_type": "code",
   "execution_count": null,
   "id": "4c6d4781",
   "metadata": {},
   "outputs": [],
   "source": []
  }
 ],
 "metadata": {
  "kernelspec": {
   "display_name": "Python 3 (ipykernel)",
   "language": "python",
   "name": "python3"
  },
  "language_info": {
   "codemirror_mode": {
    "name": "ipython",
    "version": 3
   },
   "file_extension": ".py",
   "mimetype": "text/x-python",
   "name": "python",
   "nbconvert_exporter": "python",
   "pygments_lexer": "ipython3",
   "version": "3.11.4"
  }
 },
 "nbformat": 4,
 "nbformat_minor": 5
}

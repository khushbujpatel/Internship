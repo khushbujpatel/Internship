{
 "cells": [
  {
   "cell_type": "markdown",
   "id": "8f4cc907",
   "metadata": {},
   "source": [
    "Q1: Write a python program to scrape data for “Data Analyst” Job position in “Bangalore” location.\n",
    "You have to scrape the job-title, job-location, company_name, experience_required. You have to\n",
    "scrape first 10 jobs data.\n",
    "This task will be done in following steps:\n",
    "1. First get the webpage https://www.shine.com/\n",
    "2. Enter “Data Analyst” in “Job title, Skills” field and enter “Bangalore” in “enter the location” field.\n",
    "3. Then click the searchbutton.\n",
    "4. Then scrape the data for the first 10 jobs results you get.\n",
    "5. Finally create a dataframe of the scraped data.\n",
    "Note: All of the above steps have to be done in code. No step is to be done manually."
   ]
  },
  {
   "cell_type": "code",
   "execution_count": 1,
   "id": "843c2dfa",
   "metadata": {},
   "outputs": [
    {
     "name": "stdout",
     "output_type": "stream",
     "text": [
      "Requirement already satisfied: selenium in ./anaconda3/lib/python3.11/site-packages (4.21.0)\r\n",
      "Requirement already satisfied: urllib3[socks]<3,>=1.26 in ./anaconda3/lib/python3.11/site-packages (from selenium) (1.26.16)\r\n",
      "Requirement already satisfied: trio~=0.17 in ./anaconda3/lib/python3.11/site-packages (from selenium) (0.25.1)\r\n",
      "Requirement already satisfied: trio-websocket~=0.9 in ./anaconda3/lib/python3.11/site-packages (from selenium) (0.11.1)\r\n",
      "Requirement already satisfied: certifi>=2021.10.8 in ./anaconda3/lib/python3.11/site-packages (from selenium) (2023.7.22)\r\n",
      "Requirement already satisfied: typing_extensions>=4.9.0 in ./anaconda3/lib/python3.11/site-packages (from selenium) (4.11.0)\r\n",
      "Requirement already satisfied: attrs>=23.2.0 in ./anaconda3/lib/python3.11/site-packages (from trio~=0.17->selenium) (23.2.0)\r\n",
      "Requirement already satisfied: sortedcontainers in ./anaconda3/lib/python3.11/site-packages (from trio~=0.17->selenium) (2.4.0)\r\n",
      "Requirement already satisfied: idna in ./anaconda3/lib/python3.11/site-packages (from trio~=0.17->selenium) (3.4)\r\n",
      "Requirement already satisfied: outcome in ./anaconda3/lib/python3.11/site-packages (from trio~=0.17->selenium) (1.3.0.post0)\r\n",
      "Requirement already satisfied: sniffio>=1.3.0 in ./anaconda3/lib/python3.11/site-packages (from trio~=0.17->selenium) (1.3.1)\r\n",
      "Requirement already satisfied: wsproto>=0.14 in ./anaconda3/lib/python3.11/site-packages (from trio-websocket~=0.9->selenium) (1.2.0)\r\n",
      "Requirement already satisfied: PySocks!=1.5.7,<2.0,>=1.5.6 in ./anaconda3/lib/python3.11/site-packages (from urllib3[socks]<3,>=1.26->selenium) (1.7.1)\r\n",
      "Requirement already satisfied: h11<1,>=0.9.0 in ./anaconda3/lib/python3.11/site-packages (from wsproto>=0.14->trio-websocket~=0.9->selenium) (0.14.0)\r\n"
     ]
    }
   ],
   "source": [
    "!pip install selenium"
   ]
  },
  {
   "cell_type": "code",
   "execution_count": 1,
   "id": "79d68a7e",
   "metadata": {},
   "outputs": [],
   "source": [
    "import pandas as pd\n",
    "from selenium import webdriver\n",
    "import warnings\n",
    "warnings.filterwarnings('ignore')\n",
    "from selenium.webdriver.common.by import By\n",
    "import time"
   ]
  },
  {
   "cell_type": "code",
   "execution_count": 4,
   "id": "5a1ff2a5",
   "metadata": {},
   "outputs": [],
   "source": [
    "driver = webdriver.Chrome()"
   ]
  },
  {
   "cell_type": "code",
   "execution_count": 4,
   "id": "293456d6",
   "metadata": {},
   "outputs": [],
   "source": [
    "driver.get(\"https://www.shine.com/\")"
   ]
  },
  {
   "cell_type": "code",
   "execution_count": 5,
   "id": "796261c4",
   "metadata": {},
   "outputs": [],
   "source": [
    "job_title = driver.find_element(By.CLASS_NAME,\"form-control\")\n",
    "driver.implicitly_wait(2)\n",
    "job_title.send_keys(\"Data Analyst\")"
   ]
  },
  {
   "cell_type": "code",
   "execution_count": 7,
   "id": "48ab91fb",
   "metadata": {},
   "outputs": [],
   "source": [
    "location = driver.find_element(By.XPATH,\"/html/body/div/div[4]/div/div[2]/div[2]/div[1]/form/div/div[1]/ul/li[2]/div/input\")\n",
    "location.send_keys(\"Bangalore\")"
   ]
  },
  {
   "cell_type": "code",
   "execution_count": 8,
   "id": "f50f3b66",
   "metadata": {},
   "outputs": [],
   "source": [
    "search=driver.find_element(By.CLASS_NAME,\"searchForm_btnWrap_advance__VYBHN\")\n",
    "search.click()"
   ]
  },
  {
   "cell_type": "code",
   "execution_count": 9,
   "id": "f56e1cae",
   "metadata": {},
   "outputs": [],
   "source": [
    "Titel = []\n",
    "job_location = []\n",
    "company = []\n",
    "exeperience = []"
   ]
  },
  {
   "cell_type": "code",
   "execution_count": 10,
   "id": "cfcf6649",
   "metadata": {},
   "outputs": [],
   "source": [
    "title_tags = driver.find_elements(By.XPATH,'//strong[@class=\"jobCard_pReplaceH2__xWmHg\"]')\n",
    "for i in title_tags:\n",
    "    title=i.text\n",
    "    Titel.append(title)"
   ]
  },
  {
   "cell_type": "code",
   "execution_count": 11,
   "id": "9cb41e8c",
   "metadata": {},
   "outputs": [
    {
     "data": {
      "text/plain": [
       "['Data Analyst , Senior Data Analyst , Data Analyst - Tec ...',\n",
       " 'Lead Data Analyst',\n",
       " 'Data Analyst',\n",
       " 'Data Analyst',\n",
       " 'Lead Data Analyst',\n",
       " 'Data Analyst (Need Immediate Joiner)',\n",
       " 'Data Analyst (Power BI, Python, SQL)- Internal Audit do ...',\n",
       " 'Data Analyst',\n",
       " 'Data Analyst (Need Immediate Joiner)',\n",
       " 'Clinical Data Analyst',\n",
       " 'Data Analyst Fresher and Experience Vacancy',\n",
       " 'Data Analyst Opening',\n",
       " 'Data Analyst Recruitment',\n",
       " 'Data Analyst Recruitment',\n",
       " 'Business Analyst',\n",
       " 'Data Governance Analyst',\n",
       " 'Data Governance Analyst',\n",
       " 'Data Management Analyst',\n",
       " 'Sas Programmer Analyst',\n",
       " 'MIS Analyst']"
      ]
     },
     "execution_count": 11,
     "metadata": {},
     "output_type": "execute_result"
    }
   ],
   "source": [
    "Titel"
   ]
  },
  {
   "cell_type": "code",
   "execution_count": 12,
   "id": "4b80f694",
   "metadata": {},
   "outputs": [
    {
     "data": {
      "text/plain": [
       "['Bangalore\\n+8',\n",
       " 'Bangalore\\n+8',\n",
       " 'Bangalore\\n+18',\n",
       " 'Bangalore',\n",
       " 'Bangalore\\n+7',\n",
       " 'Bangalore\\n+9',\n",
       " 'Bangalore',\n",
       " 'Bangalore',\n",
       " 'Bangalore\\n+9',\n",
       " 'Bangalore\\n+6',\n",
       " 'Bangalore\\n+12',\n",
       " 'Bangalore\\n+12',\n",
       " 'Bangalore\\n+12',\n",
       " 'Bangalore\\n+12',\n",
       " 'Bangalore\\n+6',\n",
       " 'Bangalore',\n",
       " 'Bangalore',\n",
       " 'Bangalore',\n",
       " 'Bangalore\\n+8',\n",
       " 'Bangalore']"
      ]
     },
     "execution_count": 12,
     "metadata": {},
     "output_type": "execute_result"
    }
   ],
   "source": [
    "location_tags = driver.find_elements(By.XPATH,'//div[@class=\" jobCard_jobCard_lists_item__YxRkV jobCard_locationIcon__zrWt2\"]')\n",
    "for i in location_tags:\n",
    "    title=i.text\n",
    "    job_location.append(title)\n",
    "job_location"
   ]
  },
  {
   "cell_type": "code",
   "execution_count": 13,
   "id": "ff976409",
   "metadata": {},
   "outputs": [
    {
     "data": {
      "text/plain": [
       "['appsoft solutions',\n",
       " 'mackenzie modern it solutions priva...',\n",
       " 'neo impex stainless private limited',\n",
       " 'vision india services private limit...',\n",
       " 'mackenzie modern it solutions priva...',\n",
       " 'r.s textile',\n",
       " 'talent leads hr solutions pvt ltd',\n",
       " 'valenta bpo solutions pvt. ltd.',\n",
       " 'r.s textile',\n",
       " 'techno endura',\n",
       " 'radhika enterprises',\n",
       " 'radhika enterprises',\n",
       " 'radhika enterprises',\n",
       " 'radhika enterprises',\n",
       " 'mackenzie modern it solutions priva...',\n",
       " 'white horse manpower consultancy (p...',\n",
       " 'live connections placements pvt ltd',\n",
       " 'live connections placements pvt ltd',\n",
       " 'techno endura',\n",
       " 'quess corp (magna infotech)']"
      ]
     },
     "execution_count": 13,
     "metadata": {},
     "output_type": "execute_result"
    }
   ],
   "source": [
    "company_tags = driver.find_elements(By.XPATH,'//div[@class=\"jobCard_jobCard_cName__mYnow\"]')\n",
    "for i in company_tags:\n",
    "    title=i.text\n",
    "    company.append(title)\n",
    "company"
   ]
  },
  {
   "cell_type": "code",
   "execution_count": 14,
   "id": "0b767b9c",
   "metadata": {
    "scrolled": true
   },
   "outputs": [
    {
     "data": {
      "text/plain": [
       "['0 to 4 Yrs',\n",
       " '5 to 9 Yrs',\n",
       " '9 to 14 Yrs',\n",
       " '2 to 4 Yrs',\n",
       " '5 to 9 Yrs',\n",
       " '0 to 4 Yrs',\n",
       " '3 to 8 Yrs',\n",
       " '4 to 5 Yrs',\n",
       " '0 to 4 Yrs',\n",
       " '0 to 1 Yr',\n",
       " '0 to 4 Yrs',\n",
       " '0 to 4 Yrs',\n",
       " '0 to 4 Yrs',\n",
       " '0 to 4 Yrs',\n",
       " '4 to 6 Yrs',\n",
       " '5 to 8 Yrs',\n",
       " '10 to 17 Yrs',\n",
       " '10 to 16 Yrs',\n",
       " '0 to 2 Yrs',\n",
       " '8 to 13 Yrs']"
      ]
     },
     "execution_count": 14,
     "metadata": {},
     "output_type": "execute_result"
    }
   ],
   "source": [
    "exeperience_tag = driver.find_elements(By.XPATH,'//div[@class=\" jobCard_jobCard_lists_item__YxRkV jobCard_jobIcon__3FB1t\"]')\n",
    "for i in exeperience_tag:\n",
    "    title=i.text\n",
    "    exeperience.append(title)\n",
    "exeperience"
   ]
  },
  {
   "cell_type": "code",
   "execution_count": 15,
   "id": "a93f27fc",
   "metadata": {},
   "outputs": [],
   "source": [
    "df1 = pd.DataFrame({\"job-title\":Titel,\"job-location\":job_location, \"company_name\":company,\"experience_required\":exeperience})"
   ]
  },
  {
   "cell_type": "code",
   "execution_count": 16,
   "id": "b5cad16e",
   "metadata": {},
   "outputs": [
    {
     "data": {
      "text/html": [
       "<div>\n",
       "<style scoped>\n",
       "    .dataframe tbody tr th:only-of-type {\n",
       "        vertical-align: middle;\n",
       "    }\n",
       "\n",
       "    .dataframe tbody tr th {\n",
       "        vertical-align: top;\n",
       "    }\n",
       "\n",
       "    .dataframe thead th {\n",
       "        text-align: right;\n",
       "    }\n",
       "</style>\n",
       "<table border=\"1\" class=\"dataframe\">\n",
       "  <thead>\n",
       "    <tr style=\"text-align: right;\">\n",
       "      <th></th>\n",
       "      <th>job-title</th>\n",
       "      <th>job-location</th>\n",
       "      <th>company_name</th>\n",
       "      <th>experience_required</th>\n",
       "    </tr>\n",
       "  </thead>\n",
       "  <tbody>\n",
       "    <tr>\n",
       "      <th>0</th>\n",
       "      <td>Data Analyst , Senior Data Analyst , Data Anal...</td>\n",
       "      <td>Bangalore\\n+8</td>\n",
       "      <td>appsoft solutions</td>\n",
       "      <td>0 to 4 Yrs</td>\n",
       "    </tr>\n",
       "    <tr>\n",
       "      <th>1</th>\n",
       "      <td>Lead Data Analyst</td>\n",
       "      <td>Bangalore\\n+8</td>\n",
       "      <td>mackenzie modern it solutions priva...</td>\n",
       "      <td>5 to 9 Yrs</td>\n",
       "    </tr>\n",
       "    <tr>\n",
       "      <th>2</th>\n",
       "      <td>Data Analyst</td>\n",
       "      <td>Bangalore\\n+18</td>\n",
       "      <td>neo impex stainless private limited</td>\n",
       "      <td>9 to 14 Yrs</td>\n",
       "    </tr>\n",
       "    <tr>\n",
       "      <th>3</th>\n",
       "      <td>Data Analyst</td>\n",
       "      <td>Bangalore</td>\n",
       "      <td>vision india services private limit...</td>\n",
       "      <td>2 to 4 Yrs</td>\n",
       "    </tr>\n",
       "    <tr>\n",
       "      <th>4</th>\n",
       "      <td>Lead Data Analyst</td>\n",
       "      <td>Bangalore\\n+7</td>\n",
       "      <td>mackenzie modern it solutions priva...</td>\n",
       "      <td>5 to 9 Yrs</td>\n",
       "    </tr>\n",
       "    <tr>\n",
       "      <th>5</th>\n",
       "      <td>Data Analyst (Need Immediate Joiner)</td>\n",
       "      <td>Bangalore\\n+9</td>\n",
       "      <td>r.s textile</td>\n",
       "      <td>0 to 4 Yrs</td>\n",
       "    </tr>\n",
       "    <tr>\n",
       "      <th>6</th>\n",
       "      <td>Data Analyst (Power BI, Python, SQL)- Internal...</td>\n",
       "      <td>Bangalore</td>\n",
       "      <td>talent leads hr solutions pvt ltd</td>\n",
       "      <td>3 to 8 Yrs</td>\n",
       "    </tr>\n",
       "    <tr>\n",
       "      <th>7</th>\n",
       "      <td>Data Analyst</td>\n",
       "      <td>Bangalore</td>\n",
       "      <td>valenta bpo solutions pvt. ltd.</td>\n",
       "      <td>4 to 5 Yrs</td>\n",
       "    </tr>\n",
       "    <tr>\n",
       "      <th>8</th>\n",
       "      <td>Data Analyst (Need Immediate Joiner)</td>\n",
       "      <td>Bangalore\\n+9</td>\n",
       "      <td>r.s textile</td>\n",
       "      <td>0 to 4 Yrs</td>\n",
       "    </tr>\n",
       "    <tr>\n",
       "      <th>9</th>\n",
       "      <td>Clinical Data Analyst</td>\n",
       "      <td>Bangalore\\n+6</td>\n",
       "      <td>techno endura</td>\n",
       "      <td>0 to 1 Yr</td>\n",
       "    </tr>\n",
       "    <tr>\n",
       "      <th>10</th>\n",
       "      <td>Data Analyst Fresher and Experience Vacancy</td>\n",
       "      <td>Bangalore\\n+12</td>\n",
       "      <td>radhika enterprises</td>\n",
       "      <td>0 to 4 Yrs</td>\n",
       "    </tr>\n",
       "    <tr>\n",
       "      <th>11</th>\n",
       "      <td>Data Analyst Opening</td>\n",
       "      <td>Bangalore\\n+12</td>\n",
       "      <td>radhika enterprises</td>\n",
       "      <td>0 to 4 Yrs</td>\n",
       "    </tr>\n",
       "    <tr>\n",
       "      <th>12</th>\n",
       "      <td>Data Analyst Recruitment</td>\n",
       "      <td>Bangalore\\n+12</td>\n",
       "      <td>radhika enterprises</td>\n",
       "      <td>0 to 4 Yrs</td>\n",
       "    </tr>\n",
       "    <tr>\n",
       "      <th>13</th>\n",
       "      <td>Data Analyst Recruitment</td>\n",
       "      <td>Bangalore\\n+12</td>\n",
       "      <td>radhika enterprises</td>\n",
       "      <td>0 to 4 Yrs</td>\n",
       "    </tr>\n",
       "    <tr>\n",
       "      <th>14</th>\n",
       "      <td>Business Analyst</td>\n",
       "      <td>Bangalore\\n+6</td>\n",
       "      <td>mackenzie modern it solutions priva...</td>\n",
       "      <td>4 to 6 Yrs</td>\n",
       "    </tr>\n",
       "    <tr>\n",
       "      <th>15</th>\n",
       "      <td>Data Governance Analyst</td>\n",
       "      <td>Bangalore</td>\n",
       "      <td>white horse manpower consultancy (p...</td>\n",
       "      <td>5 to 8 Yrs</td>\n",
       "    </tr>\n",
       "    <tr>\n",
       "      <th>16</th>\n",
       "      <td>Data Governance Analyst</td>\n",
       "      <td>Bangalore</td>\n",
       "      <td>live connections placements pvt ltd</td>\n",
       "      <td>10 to 17 Yrs</td>\n",
       "    </tr>\n",
       "    <tr>\n",
       "      <th>17</th>\n",
       "      <td>Data Management Analyst</td>\n",
       "      <td>Bangalore</td>\n",
       "      <td>live connections placements pvt ltd</td>\n",
       "      <td>10 to 16 Yrs</td>\n",
       "    </tr>\n",
       "    <tr>\n",
       "      <th>18</th>\n",
       "      <td>Sas Programmer Analyst</td>\n",
       "      <td>Bangalore\\n+8</td>\n",
       "      <td>techno endura</td>\n",
       "      <td>0 to 2 Yrs</td>\n",
       "    </tr>\n",
       "    <tr>\n",
       "      <th>19</th>\n",
       "      <td>MIS Analyst</td>\n",
       "      <td>Bangalore</td>\n",
       "      <td>quess corp (magna infotech)</td>\n",
       "      <td>8 to 13 Yrs</td>\n",
       "    </tr>\n",
       "  </tbody>\n",
       "</table>\n",
       "</div>"
      ],
      "text/plain": [
       "                                            job-title    job-location  \\\n",
       "0   Data Analyst , Senior Data Analyst , Data Anal...   Bangalore\\n+8   \n",
       "1                                   Lead Data Analyst   Bangalore\\n+8   \n",
       "2                                        Data Analyst  Bangalore\\n+18   \n",
       "3                                        Data Analyst       Bangalore   \n",
       "4                                   Lead Data Analyst   Bangalore\\n+7   \n",
       "5                Data Analyst (Need Immediate Joiner)   Bangalore\\n+9   \n",
       "6   Data Analyst (Power BI, Python, SQL)- Internal...       Bangalore   \n",
       "7                                        Data Analyst       Bangalore   \n",
       "8                Data Analyst (Need Immediate Joiner)   Bangalore\\n+9   \n",
       "9                               Clinical Data Analyst   Bangalore\\n+6   \n",
       "10        Data Analyst Fresher and Experience Vacancy  Bangalore\\n+12   \n",
       "11                               Data Analyst Opening  Bangalore\\n+12   \n",
       "12                           Data Analyst Recruitment  Bangalore\\n+12   \n",
       "13                           Data Analyst Recruitment  Bangalore\\n+12   \n",
       "14                                   Business Analyst   Bangalore\\n+6   \n",
       "15                            Data Governance Analyst       Bangalore   \n",
       "16                            Data Governance Analyst       Bangalore   \n",
       "17                            Data Management Analyst       Bangalore   \n",
       "18                             Sas Programmer Analyst   Bangalore\\n+8   \n",
       "19                                        MIS Analyst       Bangalore   \n",
       "\n",
       "                              company_name experience_required  \n",
       "0                        appsoft solutions          0 to 4 Yrs  \n",
       "1   mackenzie modern it solutions priva...          5 to 9 Yrs  \n",
       "2      neo impex stainless private limited         9 to 14 Yrs  \n",
       "3   vision india services private limit...          2 to 4 Yrs  \n",
       "4   mackenzie modern it solutions priva...          5 to 9 Yrs  \n",
       "5                              r.s textile          0 to 4 Yrs  \n",
       "6        talent leads hr solutions pvt ltd          3 to 8 Yrs  \n",
       "7          valenta bpo solutions pvt. ltd.          4 to 5 Yrs  \n",
       "8                              r.s textile          0 to 4 Yrs  \n",
       "9                            techno endura           0 to 1 Yr  \n",
       "10                     radhika enterprises          0 to 4 Yrs  \n",
       "11                     radhika enterprises          0 to 4 Yrs  \n",
       "12                     radhika enterprises          0 to 4 Yrs  \n",
       "13                     radhika enterprises          0 to 4 Yrs  \n",
       "14  mackenzie modern it solutions priva...          4 to 6 Yrs  \n",
       "15  white horse manpower consultancy (p...          5 to 8 Yrs  \n",
       "16     live connections placements pvt ltd        10 to 17 Yrs  \n",
       "17     live connections placements pvt ltd        10 to 16 Yrs  \n",
       "18                           techno endura          0 to 2 Yrs  \n",
       "19             quess corp (magna infotech)         8 to 13 Yrs  "
      ]
     },
     "execution_count": 16,
     "metadata": {},
     "output_type": "execute_result"
    }
   ],
   "source": [
    "df1"
   ]
  },
  {
   "cell_type": "markdown",
   "id": "24095770",
   "metadata": {},
   "source": [
    "Q2: Write a python program to scrape data for ““Data Scientist” Job position in “Bangalore” location.\n",
    "You have to scrape the job-title, job-location, company_name, experience_required. You have to\n",
    "scrape first 10 jobs data.\n",
    "This task will be done in following steps:\n",
    "1. First get the webpage https://www.naukri.com/\n",
    "2. Enter “Data Analyst” in “Job title, Skills” field and enter “Bangalore” in “enter the location” field.\n",
    "3. Then click the searchbutton.\n",
    "4. Then scrape the data for the first 10 jobs results you get.\n",
    "5. Finally create a dataframe of the scraped data.\n",
    "Note: All of the above steps have to be done in code. No step is to be done manually."
   ]
  },
  {
   "cell_type": "code",
   "execution_count": 17,
   "id": "8dabcf3d",
   "metadata": {},
   "outputs": [],
   "source": [
    "driver2 = webdriver.Chrome()"
   ]
  },
  {
   "cell_type": "code",
   "execution_count": 19,
   "id": "b9b42aaf",
   "metadata": {},
   "outputs": [],
   "source": [
    "driver2.get(\" https://www.naukri.com/\")"
   ]
  },
  {
   "cell_type": "code",
   "execution_count": 20,
   "id": "ac9303d3",
   "metadata": {},
   "outputs": [],
   "source": [
    "Position = driver2.find_element(By.XPATH,\"/html/body/div[1]/div[7]/div/div/div[1]/div/div/div/div[1]/div/input\")\n",
    "Position.send_keys(\"Data Scientist\")"
   ]
  },
  {
   "cell_type": "code",
   "execution_count": 21,
   "id": "f785ddde",
   "metadata": {},
   "outputs": [],
   "source": [
    "loc= driver2.find_element(By.XPATH,\"/html/body/div[1]/div[7]/div/div/div[5]/div/div/div/div[1]/div/input\")\n",
    "loc.send_keys(\"Bangalore\")"
   ]
  },
  {
   "cell_type": "code",
   "execution_count": 22,
   "id": "698c601f",
   "metadata": {},
   "outputs": [],
   "source": [
    "search=driver2.find_element(By.XPATH,\"/html/body/div[1]/div[7]/div/div/div[6]\")\n",
    "search.click()"
   ]
  },
  {
   "cell_type": "code",
   "execution_count": 23,
   "id": "ab3a9b1c",
   "metadata": {},
   "outputs": [],
   "source": [
    "jobtitle = []\n",
    "joblocation= []\n",
    "companyname= []\n",
    "experiencerequired=[] "
   ]
  },
  {
   "cell_type": "code",
   "execution_count": 24,
   "id": "e8766c93",
   "metadata": {},
   "outputs": [],
   "source": [
    "title_tags2 = driver2.find_elements(By.XPATH,'//div[@class=\"cust-job-tuple layout-wrapper lay-2 sjw__tuple \"]/div/a')\n",
    "for i in title_tags2:\n",
    "    title=i.text\n",
    "    jobtitle.append(title)"
   ]
  },
  {
   "cell_type": "code",
   "execution_count": 25,
   "id": "4bccd34b",
   "metadata": {},
   "outputs": [
    {
     "data": {
      "text/plain": [
       "['Data Scientist, Marketing',\n",
       " 'Data Science Engineer',\n",
       " 'Data Scientist-Senior Associate - P&T Labs',\n",
       " 'Data Scientist',\n",
       " 'Data Scientist',\n",
       " 'Data Scientist',\n",
       " 'Data Scientist',\n",
       " 'Data Scientist',\n",
       " 'Data Scientist',\n",
       " 'Data Scientist - Senior Associate',\n",
       " 'SAS Data Scientist',\n",
       " 'A&A -Sr. Data Scientist - AI POD',\n",
       " 'Data Scientist (Analytics)',\n",
       " 'Data Scientist - AI / ML',\n",
       " 'Lead Data Scientist',\n",
       " 'Data Scientist',\n",
       " 'Data Scientist II',\n",
       " 'Data Science professional',\n",
       " 'Lead Data Scientist',\n",
       " 'Data Scientist']"
      ]
     },
     "execution_count": 25,
     "metadata": {},
     "output_type": "execute_result"
    }
   ],
   "source": [
    "jobtitle"
   ]
  },
  {
   "cell_type": "code",
   "execution_count": 26,
   "id": "95151431",
   "metadata": {},
   "outputs": [],
   "source": [
    "location_tags2 = driver2.find_elements(By.XPATH,'//span[@class=\"locWdth\"]')\n",
    "for i in location_tags2:\n",
    "    title=i.text\n",
    "    joblocation.append(title)"
   ]
  },
  {
   "cell_type": "code",
   "execution_count": 27,
   "id": "e1661cc3",
   "metadata": {},
   "outputs": [
    {
     "data": {
      "text/plain": [
       "['Bangalore/Bengaluru, Kolkata, Mumbai, New Delhi, Hyderabad/Secunderabad, Pune, Chennai',\n",
       " 'Hybrid - Bangalore Rural, Noida, Pune, Chennai, Mumbai (All Areas)',\n",
       " 'Mumbai, Hyderabad, Bengaluru',\n",
       " 'Kolkata, Mumbai, New Delhi, Hyderabad, Pune, Chennai, Bengaluru',\n",
       " 'Kolkata, Mumbai, New Delhi, Hyderabad, Pune, Chennai, Bengaluru',\n",
       " 'Hybrid - Bangalore Rural, Pune, Mumbai (All Areas)',\n",
       " 'Hybrid - Hyderabad, Pune, Bengaluru',\n",
       " 'Hybrid - Hyderabad, Pune, Bengaluru',\n",
       " 'Bengaluru',\n",
       " 'Mumbai, Hyderabad, Bengaluru',\n",
       " 'Mumbai, Bengaluru, Delhi / NCR',\n",
       " 'Bengaluru',\n",
       " 'Bengaluru',\n",
       " 'Bengaluru',\n",
       " 'Bengaluru',\n",
       " 'Bengaluru',\n",
       " 'Bengaluru',\n",
       " 'Bengaluru',\n",
       " 'Bengaluru',\n",
       " 'Bengaluru']"
      ]
     },
     "execution_count": 27,
     "metadata": {},
     "output_type": "execute_result"
    }
   ],
   "source": [
    "joblocation"
   ]
  },
  {
   "cell_type": "code",
   "execution_count": 28,
   "id": "02e0d36b",
   "metadata": {},
   "outputs": [],
   "source": [
    "company_tags2 = driver2.find_elements(By.XPATH,'//div[@class=\" row2\"]/span/a[1]')\n",
    "for i in company_tags2:\n",
    "    title=i.text\n",
    "    companyname.append(title)"
   ]
  },
  {
   "cell_type": "code",
   "execution_count": 29,
   "id": "e66abc51",
   "metadata": {},
   "outputs": [
    {
     "data": {
      "text/plain": [
       "['Coursera',\n",
       " 'Futran Tech Solutions',\n",
       " 'PwC Service Delivery Center',\n",
       " 'Essenware',\n",
       " 'Essenware',\n",
       " 'Ltimindtree',\n",
       " 'Infosys',\n",
       " 'Tech Mahindra',\n",
       " 'Ericsson',\n",
       " 'PwC Service Delivery Center',\n",
       " 'Lericon Informatics',\n",
       " 'Deloitte',\n",
       " 'Philips',\n",
       " 'Philips',\n",
       " 'Baker Hughes',\n",
       " 'HP India',\n",
       " 'Honeywell',\n",
       " 'HP India',\n",
       " 'HP India',\n",
       " 'Siemens']"
      ]
     },
     "execution_count": 29,
     "metadata": {},
     "output_type": "execute_result"
    }
   ],
   "source": [
    "companyname"
   ]
  },
  {
   "cell_type": "code",
   "execution_count": 30,
   "id": "d67764c5",
   "metadata": {},
   "outputs": [],
   "source": [
    "exe_tags2 = driver2.find_elements(By.XPATH,'//span[@class=\"expwdth\"]')\n",
    "for i in exe_tags2:\n",
    "    title=i.text\n",
    "    experiencerequired.append(title)"
   ]
  },
  {
   "cell_type": "code",
   "execution_count": 31,
   "id": "5a79f618",
   "metadata": {},
   "outputs": [
    {
     "data": {
      "text/plain": [
       "['4-6 Yrs',\n",
       " '6-9 Yrs',\n",
       " '4-6 Yrs',\n",
       " '2-5 Yrs',\n",
       " '2-5 Yrs',\n",
       " '4-9 Yrs',\n",
       " '4-8 Yrs',\n",
       " '6-10 Yrs',\n",
       " '0-3 Yrs',\n",
       " '3-8 Yrs',\n",
       " '2-6 Yrs',\n",
       " '3-7 Yrs',\n",
       " '4-8 Yrs',\n",
       " '4-8 Yrs',\n",
       " '9-14 Yrs',\n",
       " '4-8 Yrs',\n",
       " '4-6 Yrs',\n",
       " '6-11 Yrs',\n",
       " '7-11 Yrs',\n",
       " '2-3 Yrs']"
      ]
     },
     "execution_count": 31,
     "metadata": {},
     "output_type": "execute_result"
    }
   ],
   "source": [
    "experiencerequired"
   ]
  },
  {
   "cell_type": "code",
   "execution_count": 32,
   "id": "82264b95",
   "metadata": {},
   "outputs": [],
   "source": [
    "df2 = pd.DataFrame({'job-title':jobtitle[:10],'job-location':joblocation[:10],'company_name':companyname[:10],'experience_required':experiencerequired[:10]})"
   ]
  },
  {
   "cell_type": "code",
   "execution_count": 33,
   "id": "f8e82390",
   "metadata": {},
   "outputs": [
    {
     "data": {
      "text/html": [
       "<div>\n",
       "<style scoped>\n",
       "    .dataframe tbody tr th:only-of-type {\n",
       "        vertical-align: middle;\n",
       "    }\n",
       "\n",
       "    .dataframe tbody tr th {\n",
       "        vertical-align: top;\n",
       "    }\n",
       "\n",
       "    .dataframe thead th {\n",
       "        text-align: right;\n",
       "    }\n",
       "</style>\n",
       "<table border=\"1\" class=\"dataframe\">\n",
       "  <thead>\n",
       "    <tr style=\"text-align: right;\">\n",
       "      <th></th>\n",
       "      <th>job-title</th>\n",
       "      <th>job-location</th>\n",
       "      <th>company_name</th>\n",
       "      <th>experience_required</th>\n",
       "    </tr>\n",
       "  </thead>\n",
       "  <tbody>\n",
       "    <tr>\n",
       "      <th>0</th>\n",
       "      <td>Data Scientist, Marketing</td>\n",
       "      <td>Bangalore/Bengaluru, Kolkata, Mumbai, New Delh...</td>\n",
       "      <td>Coursera</td>\n",
       "      <td>4-6 Yrs</td>\n",
       "    </tr>\n",
       "    <tr>\n",
       "      <th>1</th>\n",
       "      <td>Data Science Engineer</td>\n",
       "      <td>Hybrid - Bangalore Rural, Noida, Pune, Chennai...</td>\n",
       "      <td>Futran Tech Solutions</td>\n",
       "      <td>6-9 Yrs</td>\n",
       "    </tr>\n",
       "    <tr>\n",
       "      <th>2</th>\n",
       "      <td>Data Scientist-Senior Associate - P&amp;T Labs</td>\n",
       "      <td>Mumbai, Hyderabad, Bengaluru</td>\n",
       "      <td>PwC Service Delivery Center</td>\n",
       "      <td>4-6 Yrs</td>\n",
       "    </tr>\n",
       "    <tr>\n",
       "      <th>3</th>\n",
       "      <td>Data Scientist</td>\n",
       "      <td>Kolkata, Mumbai, New Delhi, Hyderabad, Pune, C...</td>\n",
       "      <td>Essenware</td>\n",
       "      <td>2-5 Yrs</td>\n",
       "    </tr>\n",
       "    <tr>\n",
       "      <th>4</th>\n",
       "      <td>Data Scientist</td>\n",
       "      <td>Kolkata, Mumbai, New Delhi, Hyderabad, Pune, C...</td>\n",
       "      <td>Essenware</td>\n",
       "      <td>2-5 Yrs</td>\n",
       "    </tr>\n",
       "    <tr>\n",
       "      <th>5</th>\n",
       "      <td>Data Scientist</td>\n",
       "      <td>Hybrid - Bangalore Rural, Pune, Mumbai (All Ar...</td>\n",
       "      <td>Ltimindtree</td>\n",
       "      <td>4-9 Yrs</td>\n",
       "    </tr>\n",
       "    <tr>\n",
       "      <th>6</th>\n",
       "      <td>Data Scientist</td>\n",
       "      <td>Hybrid - Hyderabad, Pune, Bengaluru</td>\n",
       "      <td>Infosys</td>\n",
       "      <td>4-8 Yrs</td>\n",
       "    </tr>\n",
       "    <tr>\n",
       "      <th>7</th>\n",
       "      <td>Data Scientist</td>\n",
       "      <td>Hybrid - Hyderabad, Pune, Bengaluru</td>\n",
       "      <td>Tech Mahindra</td>\n",
       "      <td>6-10 Yrs</td>\n",
       "    </tr>\n",
       "    <tr>\n",
       "      <th>8</th>\n",
       "      <td>Data Scientist</td>\n",
       "      <td>Bengaluru</td>\n",
       "      <td>Ericsson</td>\n",
       "      <td>0-3 Yrs</td>\n",
       "    </tr>\n",
       "    <tr>\n",
       "      <th>9</th>\n",
       "      <td>Data Scientist - Senior Associate</td>\n",
       "      <td>Mumbai, Hyderabad, Bengaluru</td>\n",
       "      <td>PwC Service Delivery Center</td>\n",
       "      <td>3-8 Yrs</td>\n",
       "    </tr>\n",
       "  </tbody>\n",
       "</table>\n",
       "</div>"
      ],
      "text/plain": [
       "                                    job-title  \\\n",
       "0                   Data Scientist, Marketing   \n",
       "1                       Data Science Engineer   \n",
       "2  Data Scientist-Senior Associate - P&T Labs   \n",
       "3                              Data Scientist   \n",
       "4                              Data Scientist   \n",
       "5                              Data Scientist   \n",
       "6                              Data Scientist   \n",
       "7                              Data Scientist   \n",
       "8                              Data Scientist   \n",
       "9           Data Scientist - Senior Associate   \n",
       "\n",
       "                                        job-location  \\\n",
       "0  Bangalore/Bengaluru, Kolkata, Mumbai, New Delh...   \n",
       "1  Hybrid - Bangalore Rural, Noida, Pune, Chennai...   \n",
       "2                       Mumbai, Hyderabad, Bengaluru   \n",
       "3  Kolkata, Mumbai, New Delhi, Hyderabad, Pune, C...   \n",
       "4  Kolkata, Mumbai, New Delhi, Hyderabad, Pune, C...   \n",
       "5  Hybrid - Bangalore Rural, Pune, Mumbai (All Ar...   \n",
       "6                Hybrid - Hyderabad, Pune, Bengaluru   \n",
       "7                Hybrid - Hyderabad, Pune, Bengaluru   \n",
       "8                                          Bengaluru   \n",
       "9                       Mumbai, Hyderabad, Bengaluru   \n",
       "\n",
       "                  company_name experience_required  \n",
       "0                     Coursera             4-6 Yrs  \n",
       "1        Futran Tech Solutions             6-9 Yrs  \n",
       "2  PwC Service Delivery Center             4-6 Yrs  \n",
       "3                    Essenware             2-5 Yrs  \n",
       "4                    Essenware             2-5 Yrs  \n",
       "5                  Ltimindtree             4-9 Yrs  \n",
       "6                      Infosys             4-8 Yrs  \n",
       "7                Tech Mahindra            6-10 Yrs  \n",
       "8                     Ericsson             0-3 Yrs  \n",
       "9  PwC Service Delivery Center             3-8 Yrs  "
      ]
     },
     "execution_count": 33,
     "metadata": {},
     "output_type": "execute_result"
    }
   ],
   "source": [
    "df2"
   ]
  },
  {
   "cell_type": "markdown",
   "id": "3fc3a55e",
   "metadata": {},
   "source": [
    "Q3: Scrape data of first 100 sunglasses listings on flipkart.com. You have to scrape four attributes:\n",
    "1. Brand\n",
    "2. ProductDescription\n",
    "3. Price\n",
    "                                                                                                                    The attributes which you have to scrape is ticked marked in the below image.\n",
    "To scrape the data you have to go through following steps:\n",
    "1. Go to Flipkart webpage by url : https://www.flipkart.com/\n",
    "2. Enter “sunglasses” in the search fieldwhere “search for products, brands and more” is written and\n",
    "click the search icon\n",
    "3. After that you will reach to the page having a lot of sunglasses. From this page you can scrap the\n",
    "required data as usual.\n",
    "4. After scraping data from the first page, go to the “Next” Button at the bottom other page , then\n",
    "click on it.\n",
    "5. Now scrape data from this page as usual\n",
    "6. Repeat this until you get data for 100sunglasses. Note: That all of the above steps have to be done\n",
    "by coding only and not manually.\n",
    "Note: That all of the above steps have to be done by coding only and not manually."
   ]
  },
  {
   "cell_type": "code",
   "execution_count": 2,
   "id": "04434ab2",
   "metadata": {},
   "outputs": [],
   "source": [
    "brand = []\n",
    "productdiscription = []\n",
    "price = []"
   ]
  },
  {
   "cell_type": "code",
   "execution_count": 3,
   "id": "84a05404",
   "metadata": {},
   "outputs": [],
   "source": [
    "driver3 = webdriver.Chrome()"
   ]
  },
  {
   "cell_type": "code",
   "execution_count": 4,
   "id": "0ec5e28c",
   "metadata": {},
   "outputs": [],
   "source": [
    "driver3.get(\"https://www.flipkart.com/\")"
   ]
  },
  {
   "cell_type": "code",
   "execution_count": 5,
   "id": "1e992e6b",
   "metadata": {},
   "outputs": [],
   "source": [
    "product = driver3.find_element(By.XPATH,\"/html/body/div[1]/div/div[1]/div/div/div/div/div[1]/div/div[1]/div/div[1]/div[1]/header/div[1]/div[2]/form/div/div/input\")\n",
    "product.send_keys(\"sunglasses\")"
   ]
  },
  {
   "cell_type": "code",
   "execution_count": 6,
   "id": "8c2f7175",
   "metadata": {},
   "outputs": [],
   "source": [
    "search3=driver3.find_element(By.XPATH,\"/html/body/div[1]/div/div[1]/div/div/div/div/div[1]/div/div[1]/div/div[1]/div[1]/header/div[1]/div[2]/form/div/button\")\n",
    "search3.click()"
   ]
  },
  {
   "cell_type": "code",
   "execution_count": 7,
   "id": "e4be8641",
   "metadata": {},
   "outputs": [],
   "source": [
    "brand_tags = driver3.find_elements(By.XPATH,'//div[@class=\"syl9yP\"]')\n",
    "for i in brand_tags:\n",
    "    t=i.text\n",
    "    brand.append(t)\n",
    "pro_tags = driver3.find_elements(By.XPATH,'//a[@class=\"WKTcLC\"]')\n",
    "for i in pro_tags:\n",
    "    t=i.text\n",
    "    productdiscription.append(t)\n",
    "price_tags = driver3.find_elements(By.XPATH,'//div[@class=\"Nx9bqj\"]')\n",
    "for i in price_tags:\n",
    "    t=i.text\n",
    "    price.append(t)\n"
   ]
  },
  {
   "cell_type": "code",
   "execution_count": 9,
   "id": "0ed0c1b7",
   "metadata": {},
   "outputs": [
    {
     "name": "stdout",
     "output_type": "stream",
     "text": [
      "40\n",
      "40\n",
      "40\n"
     ]
    }
   ],
   "source": [
    "print(len(brand))\n",
    "print(len(productdiscription))\n",
    "print(len(price))"
   ]
  },
  {
   "cell_type": "code",
   "execution_count": 10,
   "id": "72adf64f",
   "metadata": {},
   "outputs": [],
   "source": [
    "if len(brand)<100:\n",
    "    next_1 = driver3.find_element(By.XPATH,\"/html/body/div/div/div[3]/div[1]/div[2]/div[12]/div/div/nav/a[11]\")\n",
    "    next_1.click()"
   ]
  },
  {
   "cell_type": "code",
   "execution_count": 11,
   "id": "79c6326e",
   "metadata": {},
   "outputs": [],
   "source": [
    "brand_tags = driver3.find_elements(By.XPATH,'//div[@class=\"syl9yP\"]')\n",
    "for i in brand_tags:\n",
    "    t=i.text\n",
    "    brand.append(t)\n",
    "pro_tags = driver3.find_elements(By.XPATH,'//a[@class=\"WKTcLC\"]')\n",
    "for i in pro_tags:\n",
    "    t=i.text\n",
    "    productdiscription.append(t)\n",
    "price_tags = driver3.find_elements(By.XPATH,'//div[@class=\"Nx9bqj\"]')\n",
    "for i in price_tags:\n",
    "    t=i.text\n",
    "    price.append(t)"
   ]
  },
  {
   "cell_type": "code",
   "execution_count": 12,
   "id": "b7024491",
   "metadata": {},
   "outputs": [
    {
     "name": "stdout",
     "output_type": "stream",
     "text": [
      "80\n",
      "80\n",
      "80\n"
     ]
    }
   ],
   "source": [
    "print(len(brand))\n",
    "print(len(productdiscription))\n",
    "print(len(price))"
   ]
  },
  {
   "cell_type": "code",
   "execution_count": 13,
   "id": "15f38c24",
   "metadata": {},
   "outputs": [],
   "source": [
    "if len(brand)<100:\n",
    "    next_1 = driver3.find_element(By.XPATH,\"/html/body/div/div/div[3]/div[1]/div[2]/div[12]/div/div/nav/a[12]\")\n",
    "    next_1.click()"
   ]
  },
  {
   "cell_type": "code",
   "execution_count": 14,
   "id": "fbe36089",
   "metadata": {},
   "outputs": [],
   "source": [
    "brand_tags = driver3.find_elements(By.XPATH,'//div[@class=\"syl9yP\"]')\n",
    "for i in brand_tags:\n",
    "    t=i.text\n",
    "    brand.append(t)\n",
    "pro_tags = driver3.find_elements(By.XPATH,'//a[@class=\"WKTcLC\"]')\n",
    "for i in pro_tags:\n",
    "    t=i.text\n",
    "    productdiscription.append(t)\n",
    "price_tags = driver3.find_elements(By.XPATH,'//div[@class=\"Nx9bqj\"]')\n",
    "for i in price_tags:\n",
    "    t=i.text\n",
    "    price.append(t)"
   ]
  },
  {
   "cell_type": "code",
   "execution_count": 15,
   "id": "1910896d",
   "metadata": {},
   "outputs": [
    {
     "name": "stdout",
     "output_type": "stream",
     "text": [
      "120\n",
      "120\n",
      "120\n"
     ]
    }
   ],
   "source": [
    "print(len(brand))\n",
    "print(len(productdiscription))\n",
    "print(len(price))"
   ]
  },
  {
   "cell_type": "code",
   "execution_count": 17,
   "id": "6828f5ec",
   "metadata": {},
   "outputs": [],
   "source": [
    "df3 = pd.DataFrame({\"brand\":brand[:100],\"discription\":productdiscription[:100],\"proce\":price[:100]})"
   ]
  },
  {
   "cell_type": "code",
   "execution_count": 18,
   "id": "baedc40a",
   "metadata": {},
   "outputs": [
    {
     "data": {
      "text/html": [
       "<div>\n",
       "<style scoped>\n",
       "    .dataframe tbody tr th:only-of-type {\n",
       "        vertical-align: middle;\n",
       "    }\n",
       "\n",
       "    .dataframe tbody tr th {\n",
       "        vertical-align: top;\n",
       "    }\n",
       "\n",
       "    .dataframe thead th {\n",
       "        text-align: right;\n",
       "    }\n",
       "</style>\n",
       "<table border=\"1\" class=\"dataframe\">\n",
       "  <thead>\n",
       "    <tr style=\"text-align: right;\">\n",
       "      <th></th>\n",
       "      <th>brand</th>\n",
       "      <th>discription</th>\n",
       "      <th>proce</th>\n",
       "    </tr>\n",
       "  </thead>\n",
       "  <tbody>\n",
       "    <tr>\n",
       "      <th>0</th>\n",
       "      <td>ROYAL SON</td>\n",
       "      <td>Polarized, UV Protection Wayfarer, Retro Squar...</td>\n",
       "      <td>₹699</td>\n",
       "    </tr>\n",
       "    <tr>\n",
       "      <th>1</th>\n",
       "      <td>ROYAL SON</td>\n",
       "      <td>Mirrored Aviator Sunglasses (58)</td>\n",
       "      <td>₹399</td>\n",
       "    </tr>\n",
       "    <tr>\n",
       "      <th>2</th>\n",
       "      <td>SRPM</td>\n",
       "      <td>UV Protection Wayfarer Sunglasses (52)</td>\n",
       "      <td>₹221</td>\n",
       "    </tr>\n",
       "    <tr>\n",
       "      <th>3</th>\n",
       "      <td>VINCENT CHASE</td>\n",
       "      <td>by Lenskart UV Protection Wayfarer Sunglasses ...</td>\n",
       "      <td>₹487</td>\n",
       "    </tr>\n",
       "    <tr>\n",
       "      <th>4</th>\n",
       "      <td>ROADWAY</td>\n",
       "      <td>UV Protection Retro Square, Wayfarer, Sports S...</td>\n",
       "      <td>₹170</td>\n",
       "    </tr>\n",
       "    <tr>\n",
       "      <th>...</th>\n",
       "      <td>...</td>\n",
       "      <td>...</td>\n",
       "      <td>...</td>\n",
       "    </tr>\n",
       "    <tr>\n",
       "      <th>95</th>\n",
       "      <td>elegante</td>\n",
       "      <td>UV Protection Rectangular Sunglasses (Free Size)</td>\n",
       "      <td>₹263</td>\n",
       "    </tr>\n",
       "    <tr>\n",
       "      <th>96</th>\n",
       "      <td>IDEE</td>\n",
       "      <td>Gradient Round Sunglasses (56)</td>\n",
       "      <td>₹2,506</td>\n",
       "    </tr>\n",
       "    <tr>\n",
       "      <th>97</th>\n",
       "      <td>ROYAL SON</td>\n",
       "      <td>UV Protection Round, Over-sized Sunglasses (Fr...</td>\n",
       "      <td>₹854</td>\n",
       "    </tr>\n",
       "    <tr>\n",
       "      <th>98</th>\n",
       "      <td>Eyenaks</td>\n",
       "      <td>UV Protection Rectangular Sunglasses (Free Size)</td>\n",
       "      <td>₹364</td>\n",
       "    </tr>\n",
       "    <tr>\n",
       "      <th>99</th>\n",
       "      <td>VINCENT CHASE</td>\n",
       "      <td>by Lenskart Polarized, UV Protection Wayfarer ...</td>\n",
       "      <td>₹499</td>\n",
       "    </tr>\n",
       "  </tbody>\n",
       "</table>\n",
       "<p>100 rows × 3 columns</p>\n",
       "</div>"
      ],
      "text/plain": [
       "            brand                                        discription   proce\n",
       "0       ROYAL SON  Polarized, UV Protection Wayfarer, Retro Squar...    ₹699\n",
       "1       ROYAL SON                   Mirrored Aviator Sunglasses (58)    ₹399\n",
       "2            SRPM             UV Protection Wayfarer Sunglasses (52)    ₹221\n",
       "3   VINCENT CHASE  by Lenskart UV Protection Wayfarer Sunglasses ...    ₹487\n",
       "4         ROADWAY  UV Protection Retro Square, Wayfarer, Sports S...    ₹170\n",
       "..            ...                                                ...     ...\n",
       "95       elegante   UV Protection Rectangular Sunglasses (Free Size)    ₹263\n",
       "96           IDEE                     Gradient Round Sunglasses (56)  ₹2,506\n",
       "97      ROYAL SON  UV Protection Round, Over-sized Sunglasses (Fr...    ₹854\n",
       "98        Eyenaks   UV Protection Rectangular Sunglasses (Free Size)    ₹364\n",
       "99  VINCENT CHASE  by Lenskart Polarized, UV Protection Wayfarer ...    ₹499\n",
       "\n",
       "[100 rows x 3 columns]"
      ]
     },
     "execution_count": 18,
     "metadata": {},
     "output_type": "execute_result"
    }
   ],
   "source": [
    "df3"
   ]
  },
  {
   "cell_type": "code",
   "execution_count": null,
   "id": "31de5401",
   "metadata": {},
   "outputs": [],
   "source": []
  }
 ],
 "metadata": {
  "kernelspec": {
   "display_name": "Python 3 (ipykernel)",
   "language": "python",
   "name": "python3"
  },
  "language_info": {
   "codemirror_mode": {
    "name": "ipython",
    "version": 3
   },
   "file_extension": ".py",
   "mimetype": "text/x-python",
   "name": "python",
   "nbconvert_exporter": "python",
   "pygments_lexer": "ipython3",
   "version": "3.11.4"
  }
 },
 "nbformat": 4,
 "nbformat_minor": 5
}
